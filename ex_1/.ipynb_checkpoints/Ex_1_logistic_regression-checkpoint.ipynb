{
 "cells": [
  {
   "cell_type": "markdown",
   "metadata": {},
   "source": [
    "# Exercise 1,  logistic regression\n",
    "MNIST script credit: https://martin-thoma.com/classify-mnist-with-pybrain/"
   ]
  },
  {
   "cell_type": "code",
   "execution_count": 1,
   "metadata": {},
   "outputs": [
    {
     "name": "stdout",
     "output_type": "stream",
     "text": [
      "Populating the interactive namespace from numpy and matplotlib\n"
     ]
    }
   ],
   "source": [
    "%matplotlib inline\n",
    "%pylab inline"
   ]
  },
  {
   "cell_type": "code",
   "execution_count": 2,
   "metadata": {},
   "outputs": [],
   "source": [
    "from struct import unpack\n",
    "import gzip\n",
    "from numpy import zeros, uint8, float32\n",
    "\n",
    "\n",
    "def get_labeled_data(imagefile, labelfile):\n",
    "    \"\"\"Read input-vector (image) and target class (label, 0-9) and return\n",
    "       it as list of tuples.\n",
    "    \"\"\"\n",
    "    # Open the images with gzip in read binary mode\n",
    "    images = gzip.open(imagefile, 'rb')\n",
    "    labels = gzip.open(labelfile, 'rb')\n",
    "\n",
    "    # Read the binary data\n",
    "\n",
    "    # We have to get big endian unsigned int. So we need '>I'\n",
    "\n",
    "    # Get metadata for images\n",
    "    images.read(4)  # skip the magic_number\n",
    "    number_of_images = images.read(4)\n",
    "    number_of_images = unpack('>I', number_of_images)[0]\n",
    "    rows = images.read(4)\n",
    "    rows = unpack('>I', rows)[0]\n",
    "    cols = images.read(4)\n",
    "    cols = unpack('>I', cols)[0]\n",
    "\n",
    "    # Get metadata for labels\n",
    "    labels.read(4)  # skip the magic_number\n",
    "    N = labels.read(4)\n",
    "    N = unpack('>I', N)[0]\n",
    "\n",
    "    if number_of_images != N:\n",
    "        raise Exception('number of labels did not match the number of images')\n",
    "\n",
    "    # Get the data\n",
    "    x = zeros((N, rows, cols), dtype=float32)  # Initialize numpy array\n",
    "    y = zeros((N, 1), dtype=uint8)  # Initialize numpy array\n",
    "    for i in range(N):\n",
    "        if i % 1000 == 0:\n",
    "            print(\"i: %i\" % i)\n",
    "        for row in range(rows):\n",
    "            for col in range(cols):\n",
    "                tmp_pixel = images.read(1)  # Just a single byte\n",
    "                tmp_pixel = unpack('>B', tmp_pixel)[0]\n",
    "                x[i][row][col] = tmp_pixel\n",
    "        tmp_label = labels.read(1)\n",
    "        y[i] = unpack('>B', tmp_label)[0]\n",
    "        data = {'x': x, 'y': y, 'rows': rows, 'cols': cols}\n",
    "    return data #(x, y)"
   ]
  },
  {
   "cell_type": "code",
   "execution_count": 3,
   "metadata": {
    "collapsed": true
   },
   "outputs": [],
   "source": [
    "from pylab import imshow, show, cm\n",
    "\n",
    "\n",
    "def view_image(image, label=\"\"):\n",
    "    \"\"\"View a single image.\"\"\"\n",
    "    print(\"Label: %s\" % label)\n",
    "    imshow(image, cmap=cm.gray)\n",
    "    show()"
   ]
  },
  {
   "cell_type": "code",
   "execution_count": 4,
   "metadata": {},
   "outputs": [
    {
     "name": "stdout",
     "output_type": "stream",
     "text": [
      "Get testset\n",
      "i: 0\n",
      "i: 1000\n",
      "i: 2000\n",
      "i: 3000\n",
      "i: 4000\n",
      "i: 5000\n",
      "i: 6000\n",
      "i: 7000\n",
      "i: 8000\n",
      "i: 9000\n",
      "Got 10000 testing datasets.\n",
      "Get trainingset\n",
      "i: 0\n",
      "i: 1000\n",
      "i: 2000\n",
      "i: 3000\n",
      "i: 4000\n",
      "i: 5000\n",
      "i: 6000\n",
      "i: 7000\n",
      "i: 8000\n",
      "i: 9000\n",
      "i: 10000\n",
      "i: 11000\n",
      "i: 12000\n",
      "i: 13000\n",
      "i: 14000\n",
      "i: 15000\n",
      "i: 16000\n",
      "i: 17000\n",
      "i: 18000\n",
      "i: 19000\n",
      "i: 20000\n",
      "i: 21000\n",
      "i: 22000\n",
      "i: 23000\n",
      "i: 24000\n",
      "i: 25000\n",
      "i: 26000\n",
      "i: 27000\n",
      "i: 28000\n",
      "i: 29000\n",
      "i: 30000\n",
      "i: 31000\n",
      "i: 32000\n",
      "i: 33000\n",
      "i: 34000\n",
      "i: 35000\n",
      "i: 36000\n",
      "i: 37000\n",
      "i: 38000\n",
      "i: 39000\n",
      "i: 40000\n",
      "i: 41000\n",
      "i: 42000\n",
      "i: 43000\n",
      "i: 44000\n",
      "i: 45000\n",
      "i: 46000\n",
      "i: 47000\n",
      "i: 48000\n",
      "i: 49000\n",
      "i: 50000\n",
      "i: 51000\n",
      "i: 52000\n",
      "i: 53000\n",
      "i: 54000\n",
      "i: 55000\n",
      "i: 56000\n",
      "i: 57000\n",
      "i: 58000\n",
      "i: 59000\n",
      "Got 60000 training datasets.\n"
     ]
    }
   ],
   "source": [
    "print(\"Get testset\")\n",
    "testing = get_labeled_data('t10k-images-idx3-ubyte.gz',\n",
    "                           't10k-labels-idx1-ubyte.gz')\n",
    "print(\"Got {} testing datasets.\".format(len(testing['x'])))\n",
    "print(\"Get trainingset\")\n",
    "training = get_labeled_data('train-images-idx3-ubyte.gz',\n",
    "                            'train-labels-idx1-ubyte.gz')\n",
    "print(\"Got {} training datasets.\".format(len(training['x'])))"
   ]
  },
  {
   "cell_type": "code",
   "execution_count": 5,
   "metadata": {},
   "outputs": [
    {
     "name": "stdout",
     "output_type": "stream",
     "text": [
      "Label: [2]\n"
     ]
    },
    {
     "data": {
      "image/png": "[encoded data removed]",
      "text/plain": [
       "<matplotlib.figure.Figure at 0x7f529598f5c0>"
      ]
     },
     "metadata": {},
     "output_type": "display_data"
    }
   ],
   "source": [
    "view_image(testing['x'][1], label=testing['y'][1])"
   ]
  },
  {
   "cell_type": "code",
   "execution_count": 6,
   "metadata": {},
   "outputs": [
    {
     "name": "stdout",
     "output_type": "stream",
     "text": [
      "Label: [3]\n"
     ]
    },
    {
     "data": {
      "image/png": "[encoded data removed]",
      "text/plain": [
       "<matplotlib.figure.Figure at 0x7f528655da20>"
      ]
     },
     "metadata": {},
     "output_type": "display_data"
    }
   ],
   "source": [
    "view_image(training['x'][7], label=training['y'][7])"
   ]
  },
  {
   "cell_type": "code",
   "execution_count": 7,
   "metadata": {},
   "outputs": [
    {
     "data": {
      "text/plain": [
       "(28, 28)"
      ]
     },
     "execution_count": 7,
     "metadata": {},
     "output_type": "execute_result"
    }
   ],
   "source": [
    "training['x'][7].shape"
   ]
  },
  {
   "cell_type": "code",
   "execution_count": 8,
   "metadata": {
    "collapsed": true
   },
   "outputs": [],
   "source": [
    "import numpy as np"
   ]
  },
  {
   "cell_type": "code",
   "execution_count": 9,
   "metadata": {},
   "outputs": [],
   "source": [
    "def filter_0_1(data):\n",
    "    \"\"\"\n",
    "    Keeps only the records corresponding to the labels 0 or 1.\n",
    "    \"\"\"\n",
    "    mask = np.squeeze((data['y'] == 0) | (data['y'] == 1))\n",
    "    # filtered data\n",
    "    x = data['x'][mask]\n",
    "    y = np.squeeze(data['y'][mask])\n",
    "    # unraveling\n",
    "    flat_x = np.array([np.ravel(x[i]) \n",
    "                       for i in range(x.shape[0])])\n",
    "    # Adding column of ones\n",
    "    flat_x = np.c_[flat_x, np.ones(flat_x.shape[0])]\n",
    "    filtered_data = {'x': flat_x.transpose(),\n",
    "                     'y': y,\n",
    "                     'rows': data['rows'],\n",
    "                     'cols': data['cols']}\n",
    "    return filtered_data\n",
    "\n",
    "training_0_1 = filter_0_1(training)\n",
    "testing_0_1 = filter_0_1(testing)"
   ]
  },
  {
   "cell_type": "code",
   "execution_count": 10,
   "metadata": {},
   "outputs": [
    {
     "name": "stdout",
     "output_type": "stream",
     "text": [
      "(785, 12665) (12665,)\n",
      "(785, 2115) (2115,)\n"
     ]
    }
   ],
   "source": [
    "print(training_0_1['x'].shape, training_0_1['y'].shape)\n",
    "print(testing_0_1['x'].shape, testing_0_1['y'].shape)"
   ]
  },
  {
   "cell_type": "code",
   "execution_count": 11,
   "metadata": {
    "collapsed": true
   },
   "outputs": [],
   "source": [
    "def sigmoid_array(x):                                        \n",
    "    return 1 / (1 + np.exp(-x))"
   ]
  },
  {
   "cell_type": "code",
   "execution_count": 12,
   "metadata": {
    "collapsed": true
   },
   "outputs": [],
   "source": [
    "def logistic_regression(theta, data, target):\n",
    "    '''linear_regression.m file receives the training data X,\n",
    "    the training target values (house prices) y, and the current parameters θ.'''\n",
    "    h_prime = sigmoid_array(np.squeeze(np.dot(theta.transpose(), data)))\n",
    "    return ((h_prime - target)**2).sum() / 2"
   ]
  },
  {
   "cell_type": "code",
   "execution_count": 13,
   "metadata": {},
   "outputs": [],
   "source": [
    "from scipy import optimize\n",
    "def run_optimization(to_minimize, x_train, y_train):\n",
    "    starting_guess = (2 * np.random.rand(x_train.shape[0], 1) -1 )/100\n",
    "    results  =  optimize.minimize(to_minimize,\n",
    "                                  starting_guess,\n",
    "                                  #method = 'Powell',\n",
    "                                  method = 'Nelder-Mead',\n",
    "                                  # tol = 0.00000005,\n",
    "                                  args=(x_train, y_train),\n",
    "                                  options = {'maxiter': 1000000, 'disp': True}\n",
    "                                 )\n",
    "    return (results.success, results.x)"
   ]
  },
  {
   "cell_type": "code",
   "execution_count": 14,
   "metadata": {},
   "outputs": [
    {
     "name": "stdout",
     "output_type": "stream",
     "text": [
      "Warning: Maximum number of iterations has been exceeded.\n"
     ]
    }
   ],
   "source": [
    "results = run_optimization(logistic_regression, training_0_1['x'], training_0_1['y'])\n"
   ]
  },
  {
   "cell_type": "code",
   "execution_count": 15,
   "metadata": {},
   "outputs": [
    {
     "data": {
      "text/plain": [
       "(False, array([ -2.15453121e-03,   1.74959292e-03,  -7.59274678e-03,\n",
       "          5.65222635e-03,  -8.78566576e-03,   8.09991233e-03,\n",
       "         -3.65617351e-03,   7.77152188e-03,  -3.43194478e-03,\n",
       "          7.09921717e-03,  -1.30893670e-03,   3.22470537e-03,\n",
       "          2.32003073e-03,   6.46969306e-05,  -2.30980764e-03,\n",
       "         -7.77795865e-03,  -7.85935289e-03,   8.59658176e-03,\n",
       "         -6.83989201e-03,  -2.05706678e-03,  -5.55890940e-03,\n",
       "         -3.09902977e-03,   9.08290202e-03,  -9.67529315e-03,\n",
       "         -5.01079955e-03,   5.83674544e-03,   6.85603585e-03,\n",
       "          7.78114741e-03,   6.55344129e-03,  -1.68270063e-03,\n",
       "         -2.81863221e-03,   7.12110263e-03,  -2.39860940e-03,\n",
       "         -4.49230780e-03,   5.04681815e-03,  -1.93833157e-03,\n",
       "          7.71149277e-03,   1.41658482e-03,   2.15351569e-03,\n",
       "         -3.12958858e-03,  -1.05984557e-03,  -5.28971886e-03,\n",
       "          9.58471655e-03,  -3.18871448e-03,   5.60461938e-03,\n",
       "         -7.01524575e-03,   6.52070094e-03,   4.22506890e-03,\n",
       "          3.01199570e-03,  -2.98598353e-03,  -9.78030012e-03,\n",
       "         -8.38103825e-03,  -5.69324200e-04,   1.54288728e-03,\n",
       "         -3.69861000e-03,   4.33988097e-03,   5.77061319e-04,\n",
       "         -8.62754642e-03,   4.35818212e-03,  -2.94940952e-03,\n",
       "         -2.14990769e-03,   3.38993685e-03,   5.54135591e-03,\n",
       "         -1.85453198e-03,  -1.04819699e-03,  -1.32525366e-03,\n",
       "          3.17431245e-03,   6.54217677e-03,   9.02972916e-03,\n",
       "         -7.07901310e-03,  -4.65382836e-03,  -8.68505130e-03,\n",
       "          8.57352598e-03,   2.98497195e-03,  -1.09632684e-03,\n",
       "         -5.58893495e-03,   8.50993029e-03,   8.15059084e-03,\n",
       "          2.71971648e-03,  -2.15693673e-03,   1.68317834e-03,\n",
       "          3.36488543e-03,   2.90965163e-03,  -8.24955330e-04,\n",
       "          1.34234426e-03,   4.20715522e-03,   5.62721804e-03,\n",
       "          5.59273265e-03,   2.19484545e-03,   3.10400623e-03,\n",
       "          7.11223941e-03,   6.01109995e-04,   3.94917960e-03,\n",
       "          9.63207393e-03,  -7.66139357e-03,  -6.85929866e-04,\n",
       "          6.23796310e-03,  -9.59749333e-03,   2.73699223e-03,\n",
       "         -9.77510689e-03,  -4.45893862e-03,   7.64405572e-03,\n",
       "         -9.51053159e-03,  -7.08498134e-03,  -6.98992664e-03,\n",
       "         -2.47705054e-03,   9.86466969e-03,   5.61752145e-03,\n",
       "         -9.16907926e-03,   2.50144337e-03,   3.48911138e-03,\n",
       "          1.60494942e-03,   9.67686624e-03,   9.46107564e-03,\n",
       "          9.16544970e-03,  -3.78955071e-03,  -4.04855370e-03,\n",
       "          9.98169808e-03,  -4.84008664e-03,   3.75478175e-03,\n",
       "         -8.22631654e-04,  -9.13606158e-03,  -8.64855382e-03,\n",
       "         -9.33422339e-03,  -2.48739173e-04,   9.94982171e-03,\n",
       "          9.76157575e-04,  -3.01986279e-03,   4.34326805e-03,\n",
       "          1.03434796e-03,  -2.53732465e-03,   5.18159239e-03,\n",
       "         -1.34209522e-03,  -3.76555922e-03,  -1.31670274e-03,\n",
       "         -3.65575240e-03,   3.70564590e-03,  -1.60309435e-03,\n",
       "         -3.96800106e-03,   5.30139091e-03,  -6.23732745e-03,\n",
       "         -3.18740501e-03,  -9.92700884e-03,   2.20323185e-03,\n",
       "         -4.83119711e-03,  -7.52305788e-03,   7.05293065e-03,\n",
       "         -8.33900979e-03,   7.23726419e-03,  -5.73504260e-03,\n",
       "         -8.91689586e-03,   4.75722058e-03,   6.95808170e-03,\n",
       "          5.43650976e-03,   9.09167972e-03,  -4.51113324e-03,\n",
       "          8.15044443e-04,   3.45407734e-03,   8.91712466e-03,\n",
       "         -7.10736332e-03,   6.29126430e-03,  -5.28417766e-03,\n",
       "          1.05233652e-03,  -5.38423832e-03,  -5.66413200e-04,\n",
       "          5.91727195e-03,  -7.75451825e-03,   3.60145743e-03,\n",
       "          2.49632681e-03,  -3.13427248e-03,   5.91117419e-03,\n",
       "         -4.03566108e-03,  -7.90229821e-03,  -8.70067376e-03,\n",
       "          1.69401525e-05,   9.14417128e-03,  -1.90598819e-03,\n",
       "         -9.61934807e-04,  -2.34622928e-03,   6.12996980e-03,\n",
       "          8.90387158e-03,   2.15986266e-03,   5.22265983e-03,\n",
       "          3.17385125e-03,   1.92694430e-03,  -5.12621812e-03,\n",
       "          5.46099954e-04,   7.32693136e-03,  -4.93047414e-03,\n",
       "         -8.71270566e-03,   4.47415958e-03,  -4.19769907e-03,\n",
       "          5.43536114e-03,  -8.30726406e-03,   2.65197383e-03,\n",
       "         -4.94470110e-03,   9.75611226e-03,  -4.75626039e-03,\n",
       "         -9.30533899e-03,   4.20826122e-03,  -4.47474628e-03,\n",
       "         -2.46685372e-03,  -2.66452855e-03,  -5.32248468e-03,\n",
       "          4.96105547e-03,   6.96835635e-03,  -1.85039807e-03,\n",
       "         -6.28961129e-03,   6.60491132e-03,  -7.66579752e-03,\n",
       "          2.91797327e-03,  -1.72646639e-03,   1.73066329e-03,\n",
       "          1.21376053e-04,  -4.24929347e-03,  -9.15162300e-03,\n",
       "          9.49384657e-03,  -9.48274050e-03,   9.63187876e-03,\n",
       "          5.83018107e-03,  -1.30361800e-03,   7.36807310e-03,\n",
       "          5.14592293e-03,  -6.46346514e-03,   6.30020198e-04,\n",
       "         -8.90111292e-03,   5.62999253e-03,   1.35574363e-03,\n",
       "         -3.03660944e-03,  -5.88375833e-03,  -7.52796483e-03,\n",
       "          9.73122238e-04,   4.92505905e-03,   9.67132771e-03,\n",
       "         -8.64595856e-03,  -6.22359986e-03,  -2.86507172e-03,\n",
       "         -8.33972212e-03,  -2.92186054e-04,   8.19866668e-03,\n",
       "         -1.53847676e-03,  -2.21175700e-03,   6.83244922e-03,\n",
       "         -1.60851201e-03,  -5.36046688e-03,  -4.90914722e-03,\n",
       "          2.99595751e-03,   5.48329252e-04,  -9.84665580e-03,\n",
       "         -1.34735608e-03,  -2.10215077e-03,   8.60905154e-03,\n",
       "          2.49576918e-04,  -1.12612474e-03,   5.91425265e-03,\n",
       "          2.23466331e-03,   4.70617154e-03,   7.41767885e-03,\n",
       "         -8.85176033e-03,  -1.48919080e-03,  -9.96448356e-03,\n",
       "          5.37456568e-03,  -8.88703775e-03,  -4.13193177e-03,\n",
       "          4.38441945e-03,  -8.49784063e-03,   9.45359861e-03,\n",
       "         -9.34470482e-03,   5.51530027e-03,   5.63256240e-03,\n",
       "          8.79197415e-04,   9.28242399e-03,   2.63702781e-03,\n",
       "          6.64015858e-03,   6.72576166e-03,   2.45550443e-03,\n",
       "         -7.18318236e-03,   6.96691340e-03,  -6.75890888e-03,\n",
       "          5.73253124e-03,   9.57352537e-03,  -3.78089830e-03,\n",
       "          8.46189512e-03,  -3.31794772e-03,  -5.97850946e-03,\n",
       "         -7.83058492e-03,  -8.24358042e-03,   5.09984450e-03,\n",
       "         -6.62867688e-03,  -4.05827252e-03,   7.89271369e-03,\n",
       "          3.18529679e-03,   5.43709245e-03,  -5.12594712e-03,\n",
       "          2.72304596e-03,   3.82371440e-03,  -6.69809564e-03,\n",
       "         -8.96725544e-04,  -1.73778537e-03,   2.74075488e-03,\n",
       "          4.99835948e-03,  -8.12218250e-03,   4.65790707e-04,\n",
       "          2.24699971e-03,   3.88031584e-03,  -6.41774125e-03,\n",
       "          2.24732233e-03,   7.42766739e-03,  -3.34706883e-03,\n",
       "          3.16051500e-03,  -1.24393838e-03,  -5.79257272e-03,\n",
       "          2.66641988e-03,  -8.07940111e-03,  -1.18788837e-03,\n",
       "          1.46451004e-03,  -8.89956350e-03,   9.10285345e-03,\n",
       "         -5.57857847e-03,  -4.33897837e-03,   5.71354084e-04,\n",
       "          8.86743324e-03,   4.37319132e-03,   5.61794899e-03,\n",
       "          3.24059905e-03,   2.30018248e-03,  -1.00186463e-03,\n",
       "         -1.69051106e-03,   3.78538549e-03,  -8.93076300e-03,\n",
       "         -4.37222583e-03,   4.60759726e-03,  -9.27829340e-04,\n",
       "         -6.16300869e-03,   8.87744064e-03,  -8.26225630e-03,\n",
       "         -4.09412302e-03,   3.76504621e-03,   6.98568289e-03,\n",
       "         -2.22142995e-03,   9.75697751e-03,  -3.43054004e-04,\n",
       "         -4.00677359e-03,   8.60484218e-03,  -3.07844907e-03,\n",
       "         -9.00335692e-03,   2.91482833e-03,   8.75285837e-03,\n",
       "         -6.90360657e-03,   6.34734919e-03,  -7.34246351e-03,\n",
       "          2.77536072e-03,  -5.46448059e-03,   4.27136934e-03,\n",
       "         -9.21756772e-03,  -5.19759683e-03,   3.32312390e-04,\n",
       "         -2.44186348e-03,   2.56226611e-03,  -1.00330337e-02,\n",
       "          7.69533559e-03,  -6.25498044e-04,  -1.88321138e-03,\n",
       "         -5.16491355e-03,   7.51037325e-03,   9.23574133e-03,\n",
       "          7.03465259e-03,  -4.93620446e-03,   9.95223377e-03,\n",
       "         -1.04689116e-03,  -5.17454541e-03,   1.82599646e-03,\n",
       "         -7.61016738e-03,  -7.34028323e-03,   7.11246317e-03,\n",
       "          6.51708530e-03,   4.96349430e-03,  -2.43537197e-03,\n",
       "          4.53809839e-03,   4.63212175e-03,   6.68298600e-04,\n",
       "          1.88040160e-03,  -6.06462269e-03,   1.83306105e-03,\n",
       "          1.20125549e-03,  -6.82547067e-03,  -3.21000994e-03,\n",
       "         -2.62029863e-04,  -2.17998727e-03,  -3.34593789e-03,\n",
       "         -4.21251659e-03,  -6.26731502e-03,  -4.60288367e-03,\n",
       "          7.95718735e-03,   9.12863663e-03,   7.90908062e-03,\n",
       "         -9.92754036e-03,  -4.86255664e-03,  -3.82776957e-03,\n",
       "          8.52870973e-03,  -4.80362535e-03,   7.90232209e-03,\n",
       "          4.61316065e-03,   3.33074430e-03,   8.66654204e-03,\n",
       "         -1.69860286e-03,  -4.61985250e-03,   3.51380741e-03,\n",
       "         -8.40958214e-04,   6.50178461e-04,  -7.27079972e-03,\n",
       "          6.49401521e-03,  -8.81409317e-03,  -9.47375707e-03,\n",
       "         -9.53854332e-03,  -3.57456495e-03,  -1.75335920e-03,\n",
       "         -3.19984782e-03,   1.55104741e-03,  -1.40555834e-03,\n",
       "         -8.17179880e-03,  -3.54267550e-03,  -2.96257928e-03,\n",
       "         -3.62386512e-03,   2.25357990e-03,  -1.26067580e-03,\n",
       "          3.89831733e-03,  -8.16479453e-03,   3.66173144e-03,\n",
       "         -2.88588568e-03,   2.02195043e-03,   4.91434492e-03,\n",
       "         -2.36434545e-03,  -5.73050021e-04,   5.40787869e-03,\n",
       "          8.93827895e-03,   3.95914374e-03,  -9.08838607e-03,\n",
       "          4.20841134e-03,   3.90229916e-03,  -3.54246623e-03,\n",
       "         -7.15690947e-03,   2.83507022e-03,   1.37763637e-03,\n",
       "          8.76046818e-03,  -1.25798387e-03,   5.54220514e-03,\n",
       "          8.80146907e-03,  -4.84203260e-04,   3.59926236e-03,\n",
       "         -3.25621598e-03,   8.44513279e-03,  -8.25958263e-03,\n",
       "          6.48688667e-03,  -2.12260189e-03,  -6.94121099e-03,\n",
       "          1.20371117e-04,  -1.54438887e-03,   9.85276191e-03,\n",
       "         -8.96945708e-03,  -1.80212427e-03,  -1.06379858e-03,\n",
       "         -2.17292120e-03,   2.63798672e-03,   3.55653141e-03,\n",
       "         -9.84497015e-03,   9.20481362e-03,   2.03701373e-03,\n",
       "         -1.82946715e-03,   5.85191273e-03,  -1.16726506e-03,\n",
       "          7.71572940e-03,  -4.88728559e-04,  -4.73968844e-03,\n",
       "         -9.10403705e-03,   5.71091146e-03,  -6.38345381e-03,\n",
       "          6.55993547e-03,  -8.84326360e-03,   8.86104527e-03,\n",
       "         -5.63035529e-03,   9.75161292e-03,  -7.04061643e-03,\n",
       "         -8.71971933e-03,   1.77286639e-05,  -4.91268685e-03,\n",
       "         -2.12371184e-03,  -8.80542159e-03,   5.29890258e-03,\n",
       "          1.03911817e-03,  -7.56333330e-04,  -8.63578394e-03,\n",
       "         -8.66820749e-03,   1.66904748e-03,  -2.69309477e-03,\n",
       "         -6.90566343e-03,  -1.88270462e-03,  -9.25024937e-03,\n",
       "          3.17996622e-03,  -3.59438422e-03,  -5.32420878e-03,\n",
       "         -9.39799939e-03,   9.14074710e-03,  -1.62985225e-04,\n",
       "          3.64068415e-03,   2.02581271e-03,  -1.49880038e-03,\n",
       "         -8.85477107e-03,   2.08868946e-04,  -1.48597338e-04,\n",
       "         -4.03371720e-03,  -3.20212845e-03,   4.02478038e-03,\n",
       "         -4.78463539e-03,   2.92932009e-03,  -6.35970810e-04,\n",
       "         -4.81479514e-03,  -5.12832506e-03,  -7.44704131e-03,\n",
       "          4.65897233e-03,  -5.98695810e-03,  -2.09758322e-03,\n",
       "         -6.59226930e-03,  -9.20875198e-03,  -5.80183593e-03,\n",
       "          2.54312576e-03,  -1.32817481e-03,  -5.18511171e-03,\n",
       "          9.95955063e-03,  -6.45594229e-03,  -7.51867486e-04,\n",
       "         -8.23736672e-03,   5.11813528e-04,   1.22715100e-03,\n",
       "          4.09308842e-03,  -3.76948276e-03,  -2.24910422e-03,\n",
       "          1.76768248e-03,   1.86806864e-03,   7.72071808e-03,\n",
       "         -4.14694199e-03,  -1.65900178e-03,  -5.68166478e-03,\n",
       "          6.86123761e-03,  -3.56689474e-03,  -3.87182456e-03,\n",
       "          5.86532296e-03,  -5.46288454e-03,  -5.03151518e-03,\n",
       "          5.57798556e-03,   4.32211561e-03,  -4.05705458e-03,\n",
       "         -1.33778538e-03,   6.32642411e-04,   6.77299394e-04,\n",
       "          4.27192272e-03,   6.69019481e-03,  -8.14193711e-03,\n",
       "         -6.98979613e-03,   7.08358770e-03,   3.38857341e-04,\n",
       "         -3.11884967e-03,  -4.72578492e-03,  -5.97908061e-03,\n",
       "          8.84098656e-03,  -5.00043029e-03,   2.47338462e-03,\n",
       "         -6.33454017e-04,   8.39524089e-03,   7.00685225e-03,\n",
       "          7.71263940e-03,  -2.02458946e-03,  -5.00257739e-03,\n",
       "          9.25730182e-03,   8.76833099e-03,   2.79278361e-03,\n",
       "         -7.24824836e-03,  -5.29836864e-03,  -3.96266010e-03,\n",
       "         -6.51228584e-03,  -5.08060275e-03,   9.74510665e-03,\n",
       "         -1.40394542e-03,  -3.68529380e-03,   3.10529844e-03,\n",
       "         -3.78158849e-03,  -4.97914215e-03,   5.53119698e-04,\n",
       "         -5.48101467e-03,   4.67533075e-03,  -7.63807114e-03,\n",
       "         -4.46875621e-03,   4.43744974e-03,  -3.12966248e-04,\n",
       "         -8.05539960e-03,   7.53809119e-03,  -1.47000748e-03,\n",
       "          3.95373376e-03,   5.24606899e-03,   7.73088664e-03,\n",
       "          3.06707476e-03,   7.92311365e-03,   7.45766243e-03,\n",
       "         -3.17105758e-03,  -4.61451110e-03,  -7.10073683e-04,\n",
       "          3.67623986e-03,   2.43646232e-03,  -2.41064886e-03,\n",
       "          9.15666687e-03,   1.24277230e-03,   1.87456678e-04,\n",
       "          5.94653928e-03,  -5.00804900e-04,   5.72414009e-03,\n",
       "         -4.61915407e-03,  -7.20953710e-03,   5.33404499e-03,\n",
       "         -2.17111080e-03,   5.54426462e-03,  -5.03769498e-03,\n",
       "         -7.27464400e-03,   7.42086447e-03,   6.04854255e-04,\n",
       "         -1.24653322e-03,   6.66636764e-03,   1.74338846e-03,\n",
       "          1.06786268e-04,   2.72563646e-03,  -6.81131893e-03,\n",
       "          8.98060867e-03,   4.83710646e-03,  -8.06839579e-03,\n",
       "          1.53588804e-03,  -5.19693184e-03,  -8.03532888e-03,\n",
       "         -2.14565469e-03,   2.13126728e-03,   7.25295277e-03,\n",
       "          5.36042149e-03,  -7.22345483e-03,   4.62977280e-03,\n",
       "         -6.05995436e-03,  -1.69367529e-03,   2.83526722e-03,\n",
       "         -3.69738494e-03,   1.41157365e-03,   9.03851060e-03,\n",
       "         -2.00459936e-03,  -4.29995419e-03,  -3.65874209e-03,\n",
       "         -2.37210045e-03,   7.92768660e-03,  -7.71266916e-03,\n",
       "          7.35576888e-03,  -6.39442818e-03,  -3.52611707e-03,\n",
       "         -1.04857160e-03,  -4.01979910e-03,   3.91658167e-03,\n",
       "          4.88282691e-03,  -6.72338986e-05,  -4.79541188e-04,\n",
       "          3.12551576e-04,   4.18955786e-03,   1.58489651e-03,\n",
       "          1.49072220e-03,   9.91386061e-03,  -8.48691162e-03,\n",
       "         -2.62168568e-03,  -4.13240225e-03,  -7.66694842e-03,\n",
       "         -7.00043361e-03,  -3.42273389e-03,   1.57379436e-04,\n",
       "         -1.07055931e-03,   1.36864294e-03,   1.19164292e-03,\n",
       "         -6.86933546e-03,   7.72514853e-03,  -5.75599878e-03,\n",
       "          8.04297754e-04,  -4.44624644e-03,  -6.91140670e-03,\n",
       "         -7.77701191e-04,   9.21518793e-03,   3.47057827e-03,\n",
       "         -9.78854480e-03,  -2.76456972e-03,   5.73529980e-03,\n",
       "         -9.03878911e-03,   4.26996932e-03,   9.37545254e-03,\n",
       "          8.52691476e-03,  -2.93015792e-03,   3.39921981e-03,\n",
       "         -5.05224249e-03,   6.59614169e-03,  -5.41783157e-03,\n",
       "          3.55705722e-03,  -9.64646171e-03,  -4.22642557e-03,\n",
       "          2.42897146e-03,   8.46628575e-05,   4.28393617e-03,\n",
       "          8.37016759e-03,  -4.86202471e-03,   3.94365152e-03,\n",
       "         -9.36793098e-03,   1.95185737e-03,  -5.95858186e-03,\n",
       "         -1.38668408e-03,   7.75321214e-03,  -2.32751268e-03,\n",
       "          5.79570902e-05,  -5.53959204e-03,  -1.53614134e-03,\n",
       "          8.53575877e-03,   5.67522947e-03,  -7.71651096e-04,\n",
       "          7.72549877e-04,   2.57968948e-03,   9.62192166e-03,\n",
       "         -5.87170366e-03,  -4.66048740e-03,   2.83109427e-03,\n",
       "         -4.98675722e-03,   6.64338173e-03,  -1.87513263e-03,\n",
       "         -6.05371658e-04,  -6.55738802e-03,  -8.46238277e-03,\n",
       "          2.23814635e-03,   7.17744297e-06,  -4.71521523e-04,\n",
       "         -7.26565618e-03,  -7.59358076e-03,   8.66321715e-03,\n",
       "          5.10727443e-03,   9.93416665e-03,  -1.12906699e-03,\n",
       "          3.72315518e-03,   9.09382922e-03,   8.81966909e-03,\n",
       "         -8.08793309e-03,   4.58695462e-03,  -1.04684356e-04,\n",
       "          8.73458915e-03,   6.60492386e-03,   5.24706605e-03,\n",
       "          9.29044077e-03,   5.77812693e-03,   3.20981140e-03,\n",
       "          7.65991205e-04,  -3.15671959e-03,  -3.69957473e-03,\n",
       "         -9.75165942e-03,   8.42275134e-03,   6.92499724e-03,\n",
       "          6.03907971e-04,   6.90403699e-03,  -4.61351077e-03,\n",
       "          8.13589972e-03,  -8.43620420e-03,  -5.72775824e-04,\n",
       "         -1.30161714e-03,   5.81690079e-03,   7.03744975e-05,\n",
       "         -4.27920194e-03,  -1.48067374e-03,   8.02215025e-03,\n",
       "          7.43220157e-03,   8.71687068e-03,   5.33357802e-03,\n",
       "         -3.97200000e-03,   6.23912491e-03,   2.91426069e-03,\n",
       "         -6.49117327e-03,   3.20199097e-03,  -3.75713607e-03,\n",
       "          7.02548908e-03,  -6.29964623e-03,   9.87718027e-03,\n",
       "         -6.91488243e-03,  -5.85348823e-03]))"
      ]
     },
     "execution_count": 15,
     "metadata": {},
     "output_type": "execute_result"
    }
   ],
   "source": [
    "results"
   ]
  },
  {
   "cell_type": "code",
   "execution_count": 19,
   "metadata": {
    "collapsed": true
   },
   "outputs": [],
   "source": [
    "true_theta = results[1]"
   ]
  },
  {
   "cell_type": "code",
   "execution_count": 20,
   "metadata": {
    "collapsed": true
   },
   "outputs": [],
   "source": [
    "def func_eval(theta, x):\n",
    "    return sigmoid_array(np.squeeze(np.dot(theta.transpose(), x)))"
   ]
  },
  {
   "cell_type": "code",
   "execution_count": 21,
   "metadata": {
    "collapsed": true
   },
   "outputs": [],
   "source": [
    "y_train_eval = func_eval(true_theta, training_0_1['x'])\n",
    "y_test_eval = func_eval(true_theta, testing_0_1['x'])"
   ]
  },
  {
   "cell_type": "code",
   "execution_count": null,
   "metadata": {
    "collapsed": true
   },
   "outputs": [],
   "source": []
  }
 ],
 "metadata": {
  "kernelspec": {
   "display_name": "Python 3",
   "language": "python",
   "name": "python3"
  },
  "language_info": {
   "codemirror_mode": {
    "name": "ipython",
    "version": 3
   },
   "file_extension": ".py",
   "mimetype": "text/x-python",
   "name": "python",
   "nbconvert_exporter": "python",
   "pygments_lexer": "ipython3",
   "version": "3.5.2"
  }
 },
 "nbformat": 4,
 "nbformat_minor": 2
}
