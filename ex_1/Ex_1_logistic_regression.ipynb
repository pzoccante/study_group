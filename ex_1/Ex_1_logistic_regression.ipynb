{
 "cells": [
  {
   "cell_type": "markdown",
   "metadata": {},
   "source": [
    "# Exercise 1,  logistic regression\n",
    "MNIST script credit: https://martin-thoma.com/classify-mnist-with-pybrain/"
   ]
  },
  {
   "cell_type": "code",
   "execution_count": null,
   "metadata": {},
   "outputs": [],
   "source": [
    "%matplotlib inline\n",
    "%pylab inline"
   ]
  },
  {
   "cell_type": "code",
   "execution_count": null,
   "metadata": {
    "collapsed": true
   },
   "outputs": [],
   "source": [
    "from struct import unpack\n",
    "import gzip\n",
    "from numpy import zeros, uint8, float32\n",
    "\n",
    "\n",
    "def get_labeled_data(imagefile, labelfile):\n",
    "    \"\"\"Read input-vector (image) and target class (label, 0-9) and return\n",
    "       it as list of tuples.\n",
    "    \"\"\"\n",
    "    # Open the images with gzip in read binary mode\n",
    "    images = gzip.open(imagefile, 'rb')\n",
    "    labels = gzip.open(labelfile, 'rb')\n",
    "\n",
    "    # Read the binary data\n",
    "\n",
    "    # We have to get big endian unsigned int. So we need '>I'\n",
    "\n",
    "    # Get metadata for images\n",
    "    images.read(4)  # skip the magic_number\n",
    "    number_of_images = images.read(4)\n",
    "    number_of_images = unpack('>I', number_of_images)[0]\n",
    "    rows = images.read(4)\n",
    "    rows = unpack('>I', rows)[0]\n",
    "    cols = images.read(4)\n",
    "    cols = unpack('>I', cols)[0]\n",
    "\n",
    "    # Get metadata for labels\n",
    "    labels.read(4)  # skip the magic_number\n",
    "    N = labels.read(4)\n",
    "    N = unpack('>I', N)[0]\n",
    "\n",
    "    if number_of_images != N:\n",
    "        raise Exception('number of labels did not match the number of images')\n",
    "\n",
    "    # Get the data\n",
    "    x = zeros((N, rows, cols), dtype=float32)  # Initialize numpy array\n",
    "    y = zeros((N, 1), dtype=uint8)  # Initialize numpy array\n",
    "    for i in range(N):\n",
    "        if i % 1000 == 0:\n",
    "            print(\"i: %i\" % i)\n",
    "        for row in range(rows):\n",
    "            for col in range(cols):\n",
    "                tmp_pixel = images.read(1)  # Just a single byte\n",
    "                tmp_pixel = unpack('>B', tmp_pixel)[0]\n",
    "                x[i][row][col] = tmp_pixel\n",
    "        tmp_label = labels.read(1)\n",
    "        y[i] = unpack('>B', tmp_label)[0]\n",
    "        data = {'x': x, 'y': y, 'rows': rows, 'cols': cols}\n",
    "    return data #(x, y)"
   ]
  },
  {
   "cell_type": "code",
   "execution_count": null,
   "metadata": {
    "collapsed": true
   },
   "outputs": [],
   "source": [
    "from pylab import imshow, show, cm\n",
    "\n",
    "\n",
    "def view_image(image, label=\"\"):\n",
    "    \"\"\"View a single image.\"\"\"\n",
    "    print(\"Label: %s\" % label)\n",
    "    imshow(image, cmap=cm.gray)\n",
    "    show()"
   ]
  },
  {
   "cell_type": "code",
   "execution_count": 4,
   "metadata": {},
   "outputs": [],
   "source": [
    "print(\"Get testset\")\n",
    "testing = get_labeled_data('t10k-images-idx3-ubyte.gz',\n",
    "                           't10k-labels-idx1-ubyte.gz')\n",
    "print(\"Got {} testing datasets.\".format(len(testing['x'])))\n",
    "print(\"Get trainingset\")\n",
    "training = get_labeled_data('train-images-idx3-ubyte.gz',\n",
    "                            'train-labels-idx1-ubyte.gz')\n",
    "print(\"Got {} training datasets.\".format(len(training['x'])))"
   ]
  },
  {
   "cell_type": "code",
   "execution_count": 6,
   "metadata": {},
   "outputs": [
    {
     "name": "stdout",
     "output_type": "stream",
     "text": [
      "Label: [2]\n"
     ]
    },
    {
     "data": {
      "image/png": "[encoded data removed]",
      "text/plain": [
       "<matplotlib.figure.Figure at 0x7f0471804eb8>"
      ]
     },
     "metadata": {},
     "output_type": "display_data"
    }
   ],
   "source": [
    "view_image(testing['x'][1], label=testing['y'][1])"
   ]
  },
  {
   "cell_type": "code",
   "execution_count": 7,
   "metadata": {},
   "outputs": [
    {
     "name": "stdout",
     "output_type": "stream",
     "text": [
      "Label: [3]\n"
     ]
    },
    {
     "data": {
      "image/png": "[encoded data removed]",
      "text/plain": [
       "<matplotlib.figure.Figure at 0x7f04622e87f0>"
      ]
     },
     "metadata": {},
     "output_type": "display_data"
    }
   ],
   "source": [
    "view_image(training['x'][7], label=training['y'][7])"
   ]
  },
  {
   "cell_type": "code",
   "execution_count": 8,
   "metadata": {},
   "outputs": [
    {
     "data": {
      "text/plain": [
       "(28, 28)"
      ]
     },
     "execution_count": 8,
     "metadata": {},
     "output_type": "execute_result"
    }
   ],
   "source": [
    "training['x'][7].shape"
   ]
  },
  {
   "cell_type": "code",
   "execution_count": 9,
   "metadata": {
    "collapsed": true
   },
   "outputs": [],
   "source": [
    "import numpy as np"
   ]
  },
  {
   "cell_type": "code",
   "execution_count": 10,
   "metadata": {},
   "outputs": [
    {
     "name": "stdout",
     "output_type": "stream",
     "text": [
      "(12665,)\n",
      "(2115,)\n"
     ]
    }
   ],
   "source": [
    "def filter_0_1(data):\n",
    "    \"\"\"\n",
    "    Keeps only the records corresponding to the labels 0 or 1.\n",
    "    \"\"\"\n",
    "    mask = np.squeeze((data['y'] == 0) | (data['y'] == 1))\n",
    "    # filtered data\n",
    "    x = data['x'][mask]\n",
    "    y = np.squeeze(data['y'][mask])\n",
    "    # unraveling\n",
    "    flat_x = x.reshape(x.shape[0], -1)\n",
    "    means = flat_x.mean(axis=1)\n",
    "    stds = flat_x.std()\n",
    "    flat_x = (flat_x.transpose() - means).transpose() / stds\n",
    "    print(means.shape)\n",
    "    # flat_x = np.array([np.ravel(x[i]) \n",
    "    #                    for i in range(x.shape[0])])\n",
    "    # Adding column of ones\n",
    "    flat_x = np.c_[flat_x, np.ones(flat_x.shape[0])]\n",
    "    filtered_data = {'x': flat_x.transpose(),\n",
    "                     'y': y,\n",
    "                     'rows': data['rows'],\n",
    "                     'cols': data['cols']}\n",
    "    return filtered_data\n",
    "\n",
    "training_0_1 = filter_0_1(training)\n",
    "testing_0_1 = filter_0_1(testing)"
   ]
  },
  {
   "cell_type": "code",
   "execution_count": 11,
   "metadata": {},
   "outputs": [
    {
     "name": "stdout",
     "output_type": "stream",
     "text": [
      "(785, 12665) (12665,)\n",
      "(785, 2115) (2115,)\n"
     ]
    }
   ],
   "source": [
    "print(training_0_1['x'].shape, training_0_1['y'].shape)\n",
    "print(testing_0_1['x'].shape, testing_0_1['y'].shape)"
   ]
  },
  {
   "cell_type": "code",
   "execution_count": 12,
   "metadata": {
    "collapsed": true
   },
   "outputs": [],
   "source": [
    "def sigmoid_array(x):\n",
    "    x = np.clip( x, -500, 500 )\n",
    "    return 1 / (1 + np.exp(-x))"
   ]
  },
  {
   "cell_type": "code",
   "execution_count": 47,
   "metadata": {
    "collapsed": true
   },
   "outputs": [],
   "source": [
    "def logistic_regression(theta, data, target):\n",
    "    '''\n",
    "    Receives the training data X,\n",
    "    the training target values (house prices) y, and the current parameters θ.\n",
    "    Returns the loss function.\n",
    "    '''\n",
    "    h_prime = sigmoid_array(np.squeeze(np.dot(theta.transpose(), data)))\n",
    "    res = -(np.dot(target, np.log(h_prime)) + np.dot(1-target, np.log(1-h_prime)))\n",
    "    res = res.clip(max=np.finfo(res.dtype).max)\n",
    "    return res\n",
    "\n",
    "def logistic_regression_prime(theta, data, target):\n",
    "    '''\n",
    "    Receives the training data X,\n",
    "    the training target values (house prices) y, and the current parameters θ.\n",
    "    Returns the jacobian of the loss function.\n",
    "    '''\n",
    "    h_prime = sigmoid_array(np.squeeze(np.dot(theta.transpose(), data)))\n",
    "    res = np.dot(data, (h_prime - target))\n",
    "    res = res.clip(min=np.finfo(res.dtype).min, max=np.finfo(res.dtype).max)\n",
    "    return res\n",
    "\n",
    "def logistic_regression_second(theta, data, target):\n",
    "    '''\n",
    "    Receives the training data X,\n",
    "    the training target values (house prices) y, and the current parameters θ.\n",
    "    Returns the hessian of the loss function.\n",
    "    '''\n",
    "    h_prime = sigmoid_array(np.squeeze(np.dot(theta.transpose(), data)))\n",
    "    res =  np.dot(data, data.transpose()) * np.dot(h_prime, (1 - h_prime))\n",
    "    res = res.clip(min=np.finfo(res.dtype).min, max=np.finfo(res.dtype).max)\n",
    "    return res"
   ]
  },
  {
   "cell_type": "code",
   "execution_count": 48,
   "metadata": {
    "collapsed": true
   },
   "outputs": [],
   "source": [
    "\n",
    "\n",
    "from scipy import optimize\n",
    "def run_optimization(to_minimize,jacobian,hessian, x_train, y_train):\n",
    "    starting_guess = (2 * np.random.rand(x_train.shape[0], 1) -1 )/100\n",
    "    results  =  optimize.minimize(to_minimize,\n",
    "                                  starting_guess,\n",
    "                                  jac = jacobian,\n",
    "                                  hess = hessian,\n",
    "                                  method='Newton-CG',\n",
    "                                  #method = 'Powell',\n",
    "                                  #method = 'Nelder-Mead',\n",
    "                                  # tol = 0.00000005,\n",
    "                                  args=(x_train, y_train),\n",
    "                                  options = {#'maxiter': 1000000,\n",
    "                                             'disp': True}\n",
    "                                 )\n",
    "    return (results.success, results.x)"
   ]
  },
  {
   "cell_type": "code",
   "execution_count": null,
   "metadata": {
    "scrolled": true
   },
   "outputs": [],
   "source": [
    "results = run_optimization(logistic_regression,\n",
    "                           logistic_regression_prime,\n",
    "                           logistic_regression_second,\n",
    "                           training_0_1['x'], training_0_1['y'])\n"
   ]
  },
  {
   "cell_type": "code",
   "execution_count": null,
   "metadata": {},
   "outputs": [],
   "source": [
    "results"
   ]
  },
  {
   "cell_type": "code",
   "execution_count": null,
   "metadata": {
    "collapsed": true
   },
   "outputs": [],
   "source": [
    "true_theta = results[1]"
   ]
  },
  {
   "cell_type": "code",
   "execution_count": null,
   "metadata": {
    "collapsed": true
   },
   "outputs": [],
   "source": [
    "def func_eval(theta, x):\n",
    "    return sigmoid_array(np.squeeze(np.dot(theta.transpose(), x)))"
   ]
  },
  {
   "cell_type": "code",
   "execution_count": null,
   "metadata": {
    "collapsed": true
   },
   "outputs": [],
   "source": [
    "y_train_eval = func_eval(true_theta, training_0_1['x'])\n",
    "y_test_eval = func_eval(true_theta, testing_0_1['x'])"
   ]
  },
  {
   "cell_type": "code",
   "execution_count": null,
   "metadata": {},
   "outputs": [],
   "source": [
    "y_train_eval[:5]>0.5"
   ]
  },
  {
   "cell_type": "code",
   "execution_count": null,
   "metadata": {},
   "outputs": [],
   "source": [
    "training_0_1['y'][:5]"
   ]
  },
  {
   "cell_type": "code",
   "execution_count": null,
   "metadata": {
    "collapsed": true
   },
   "outputs": [],
   "source": [
    "import pandas as pd\n",
    "training_comparison = pd.DataFrame({'true':training_0_1['y'], 'estimated':(y_train_eval>0.5) })"
   ]
  },
  {
   "cell_type": "code",
   "execution_count": null,
   "metadata": {},
   "outputs": [],
   "source": [
    "training_comparison[training_comparison['true'] == training_comparison['estimated']].shape"
   ]
  },
  {
   "cell_type": "code",
   "execution_count": null,
   "metadata": {},
   "outputs": [],
   "source": [
    "training_comparison[training_comparison['true'] != training_comparison['estimated']].shape"
   ]
  },
  {
   "cell_type": "code",
   "execution_count": null,
   "metadata": {
    "collapsed": true
   },
   "outputs": [],
   "source": [
    "testing_comparison = pd.DataFrame({'true':testing_0_1['y'], 'estimated':(y_test_eval>0.5) })"
   ]
  },
  {
   "cell_type": "code",
   "execution_count": null,
   "metadata": {},
   "outputs": [],
   "source": [
    "testing_comparison[testing_comparison['true'] != testing_comparison['estimated']].shape"
   ]
  },
  {
   "cell_type": "code",
   "execution_count": null,
   "metadata": {},
   "outputs": [],
   "source": [
    "testing_comparison[testing_comparison['true'] == testing_comparison['estimated']].shape"
   ]
  },
  {
   "cell_type": "code",
   "execution_count": null,
   "metadata": {},
   "outputs": [],
   "source": [
    "1 - 2/(6+2109)"
   ]
  },
  {
   "cell_type": "code",
   "execution_count": null,
   "metadata": {
    "collapsed": true
   },
   "outputs": [],
   "source": []
  }
 ],
 "metadata": {
  "kernelspec": {
   "display_name": "Python 3",
   "language": "python",
   "name": "python3"
  },
  "language_info": {
   "codemirror_mode": {
    "name": "ipython",
    "version": 3
   },
   "file_extension": ".py",
   "mimetype": "text/x-python",
   "name": "python",
   "nbconvert_exporter": "python",
   "pygments_lexer": "ipython3",
   "version": "3.4.3"
  }
 },
 "nbformat": 4,
 "nbformat_minor": 2
}
