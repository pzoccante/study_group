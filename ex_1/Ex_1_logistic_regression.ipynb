{
 "cells": [
  {
   "cell_type": "markdown",
   "metadata": {},
   "source": [
    "# Exercise 1,  logistic regression\n",
    "MNIST script credit: https://martin-thoma.com/classify-mnist-with-pybrain/"
   ]
  },
  {
   "cell_type": "code",
   "execution_count": 1,
   "metadata": {},
   "outputs": [
    {
     "name": "stdout",
     "output_type": "stream",
     "text": [
      "Populating the interactive namespace from numpy and matplotlib\n"
     ]
    }
   ],
   "source": [
    "%matplotlib inline\n",
    "%pylab inline"
   ]
  },
  {
   "cell_type": "code",
   "execution_count": 2,
   "metadata": {
    "collapsed": true
   },
   "outputs": [],
   "source": [
    "from struct import unpack\n",
    "import gzip\n",
    "from numpy import zeros, uint8, float32\n",
    "\n",
    "\n",
    "def get_labeled_data(imagefile, labelfile):\n",
    "    \"\"\"Read input-vector (image) and target class (label, 0-9) and return\n",
    "       it as list of tuples.\n",
    "    \"\"\"\n",
    "    # Open the images with gzip in read binary mode\n",
    "    images = gzip.open(imagefile, 'rb')\n",
    "    labels = gzip.open(labelfile, 'rb')\n",
    "\n",
    "    # Read the binary data\n",
    "\n",
    "    # We have to get big endian unsigned int. So we need '>I'\n",
    "\n",
    "    # Get metadata for images\n",
    "    images.read(4)  # skip the magic_number\n",
    "    number_of_images = images.read(4)\n",
    "    number_of_images = unpack('>I', number_of_images)[0]\n",
    "    rows = images.read(4)\n",
    "    rows = unpack('>I', rows)[0]\n",
    "    cols = images.read(4)\n",
    "    cols = unpack('>I', cols)[0]\n",
    "\n",
    "    # Get metadata for labels\n",
    "    labels.read(4)  # skip the magic_number\n",
    "    N = labels.read(4)\n",
    "    N = unpack('>I', N)[0]\n",
    "\n",
    "    if number_of_images != N:\n",
    "        raise Exception('number of labels did not match the number of images')\n",
    "\n",
    "    # Get the data\n",
    "    x = zeros((N, rows, cols), dtype=float32)  # Initialize numpy array\n",
    "    y = zeros((N, 1), dtype=uint8)  # Initialize numpy array\n",
    "    for i in range(N):\n",
    "        if i % 1000 == 0:\n",
    "            print(\"i: %i\" % i)\n",
    "        for row in range(rows):\n",
    "            for col in range(cols):\n",
    "                tmp_pixel = images.read(1)  # Just a single byte\n",
    "                tmp_pixel = unpack('>B', tmp_pixel)[0]\n",
    "                x[i][row][col] = tmp_pixel\n",
    "        tmp_label = labels.read(1)\n",
    "        y[i] = unpack('>B', tmp_label)[0]\n",
    "        data = {'x': x, 'y': y, 'rows': rows, 'cols': cols}\n",
    "    return data #(x, y)"
   ]
  },
  {
   "cell_type": "code",
   "execution_count": 3,
   "metadata": {
    "collapsed": true
   },
   "outputs": [],
   "source": [
    "from pylab import imshow, show, cm\n",
    "\n",
    "\n",
    "def view_image(image, label=\"\"):\n",
    "    \"\"\"View a single image.\"\"\"\n",
    "    print(\"Label: %s\" % label)\n",
    "    imshow(image, cmap=cm.gray)\n",
    "    show()"
   ]
  },
  {
   "cell_type": "code",
   "execution_count": 4,
   "metadata": {},
   "outputs": [
    {
     "name": "stdout",
     "output_type": "stream",
     "text": [
      "Get testset\n",
      "i: 0\n",
      "i: 1000\n",
      "i: 2000\n",
      "i: 3000\n",
      "i: 4000\n",
      "i: 5000\n",
      "i: 6000\n",
      "i: 7000\n",
      "i: 8000\n",
      "i: 9000\n",
      "Got 10000 testing datasets.\n",
      "Get trainingset\n",
      "i: 0\n",
      "i: 1000\n",
      "i: 2000\n",
      "i: 3000\n",
      "i: 4000\n",
      "i: 5000\n",
      "i: 6000\n",
      "i: 7000\n",
      "i: 8000\n",
      "i: 9000\n",
      "i: 10000\n",
      "i: 11000\n",
      "i: 12000\n",
      "i: 13000\n",
      "i: 14000\n",
      "i: 15000\n",
      "i: 16000\n",
      "i: 17000\n",
      "i: 18000\n",
      "i: 19000\n",
      "i: 20000\n",
      "i: 21000\n",
      "i: 22000\n",
      "i: 23000\n",
      "i: 24000\n",
      "i: 25000\n",
      "i: 26000\n",
      "i: 27000\n",
      "i: 28000\n",
      "i: 29000\n",
      "i: 30000\n",
      "i: 31000\n",
      "i: 32000\n",
      "i: 33000\n",
      "i: 34000\n",
      "i: 35000\n",
      "i: 36000\n",
      "i: 37000\n",
      "i: 38000\n",
      "i: 39000\n",
      "i: 40000\n",
      "i: 41000\n",
      "i: 42000\n",
      "i: 43000\n",
      "i: 44000\n",
      "i: 45000\n",
      "i: 46000\n",
      "i: 47000\n",
      "i: 48000\n",
      "i: 49000\n",
      "i: 50000\n",
      "i: 51000\n",
      "i: 52000\n",
      "i: 53000\n",
      "i: 54000\n",
      "i: 55000\n",
      "i: 56000\n",
      "i: 57000\n",
      "i: 58000\n",
      "i: 59000\n",
      "Got 60000 training datasets.\n"
     ]
    }
   ],
   "source": [
    "print(\"Get testset\")\n",
    "testing = get_labeled_data('t10k-images-idx3-ubyte.gz',\n",
    "                           't10k-labels-idx1-ubyte.gz')\n",
    "print(\"Got {} testing datasets.\".format(len(testing['x'])))\n",
    "print(\"Get trainingset\")\n",
    "training = get_labeled_data('train-images-idx3-ubyte.gz',\n",
    "                            'train-labels-idx1-ubyte.gz')\n",
    "print(\"Got {} training datasets.\".format(len(training['x'])))"
   ]
  },
  {
   "cell_type": "code",
   "execution_count": 5,
   "metadata": {},
   "outputs": [
    {
     "name": "stdout",
     "output_type": "stream",
     "text": [
      "Label: [2]\n"
     ]
    },
    {
     "data": {
      "image/png": "[encoded data removed]",
      "text/plain": [
       "<matplotlib.figure.Figure at 0x7f2b2ac96710>"
      ]
     },
     "metadata": {},
     "output_type": "display_data"
    }
   ],
   "source": [
    "view_image(testing['x'][1], label=testing['y'][1])"
   ]
  },
  {
   "cell_type": "code",
   "execution_count": 6,
   "metadata": {},
   "outputs": [
    {
     "name": "stdout",
     "output_type": "stream",
     "text": [
      "Label: [3]\n"
     ]
    },
    {
     "data": {
      "image/png": "[encoded data removed]",
      "text/plain": [
       "<matplotlib.figure.Figure at 0x7f2b2ac96748>"
      ]
     },
     "metadata": {},
     "output_type": "display_data"
    }
   ],
   "source": [
    "view_image(training['x'][7], label=training['y'][7])"
   ]
  },
  {
   "cell_type": "code",
   "execution_count": 7,
   "metadata": {},
   "outputs": [
    {
     "data": {
      "text/plain": [
       "(28, 28)"
      ]
     },
     "execution_count": 7,
     "metadata": {},
     "output_type": "execute_result"
    }
   ],
   "source": [
    "training['x'][7].shape"
   ]
  },
  {
   "cell_type": "code",
   "execution_count": 8,
   "metadata": {
    "collapsed": true
   },
   "outputs": [],
   "source": [
    "import numpy as np"
   ]
  },
  {
   "cell_type": "code",
   "execution_count": 9,
   "metadata": {},
   "outputs": [
    {
     "name": "stdout",
     "output_type": "stream",
     "text": [
      "(12665,)\n",
      "(2115,)\n"
     ]
    }
   ],
   "source": [
    "def filter_0_1(data):\n",
    "    \"\"\"\n",
    "    Keeps only the records corresponding to the labels 0 or 1.\n",
    "    \"\"\"\n",
    "    mask = np.squeeze((data['y'] == 0) | (data['y'] == 1))\n",
    "    # filtered data\n",
    "    x = data['x'][mask]\n",
    "    y = np.squeeze(data['y'][mask])\n",
    "    # unraveling\n",
    "    flat_x = x.reshape(x.shape[0], -1)\n",
    "    means = flat_x.mean(axis=1)\n",
    "    stds = flat_x.std()\n",
    "    flat_x = (flat_x.transpose() - means).transpose() / stds\n",
    "    print(means.shape)\n",
    "    # flat_x = np.array([np.ravel(x[i]) \n",
    "    #                    for i in range(x.shape[0])])\n",
    "    # Adding column of ones\n",
    "    flat_x = np.c_[flat_x, np.ones(flat_x.shape[0])]\n",
    "    filtered_data = {'x': flat_x.transpose(),\n",
    "                     'y': y,\n",
    "                     'rows': data['rows'],\n",
    "                     'cols': data['cols']}\n",
    "    return filtered_data\n",
    "\n",
    "training_0_1 = filter_0_1(training)\n",
    "testing_0_1 = filter_0_1(testing)"
   ]
  },
  {
   "cell_type": "code",
   "execution_count": 10,
   "metadata": {},
   "outputs": [
    {
     "name": "stdout",
     "output_type": "stream",
     "text": [
      "(785, 12665) (12665,)\n",
      "(785, 2115) (2115,)\n"
     ]
    }
   ],
   "source": [
    "print(training_0_1['x'].shape, training_0_1['y'].shape)\n",
    "print(testing_0_1['x'].shape, testing_0_1['y'].shape)"
   ]
  },
  {
   "cell_type": "code",
   "execution_count": 11,
   "metadata": {
    "collapsed": true
   },
   "outputs": [],
   "source": [
    "def sigmoid_array(x):\n",
    "    x = np.clip( x, -500, 500 )\n",
    "    return 1 / (1 + np.exp(-x))"
   ]
  },
  {
   "cell_type": "code",
   "execution_count": 12,
   "metadata": {
    "collapsed": true
   },
   "outputs": [],
   "source": [
    "def logistic_regression(theta, data, target):\n",
    "    '''\n",
    "    Receives the training data X,\n",
    "    the training target values (house prices) y, and the current parameters θ.\n",
    "    Returns the loss function.\n",
    "    '''\n",
    "    h_prime = sigmoid_array(np.squeeze(np.dot(theta.transpose(), data)))\n",
    "    res = -(np.dot(target, np.log(h_prime)) + np.dot(1-target, np.log(1-h_prime)))\n",
    "    res = res.clip(max=np.finfo(res.dtype).max)\n",
    "    return res\n",
    "\n",
    "def logistic_regression_prime(theta, data, target):\n",
    "    '''\n",
    "    Receives the training data X,\n",
    "    the training target values (house prices) y, and the current parameters θ.\n",
    "    Returns the derivative of the loss function.\n",
    "    '''\n",
    "    h_prime = sigmoid_array(np.squeeze(np.dot(theta.transpose(), data)))\n",
    "    res = np.dot(data, (h_prime - target))\n",
    "    res = res.clip(min=np.finfo(res.dtype).min, max=np.finfo(res.dtype).max)\n",
    "    return res"
   ]
  },
  {
   "cell_type": "code",
   "execution_count": 29,
   "metadata": {
    "collapsed": true
   },
   "outputs": [],
   "source": [
    "from scipy import optimize\n",
    "def run_optimization(to_minimize,jacobian, x_train, y_train):\n",
    "    starting_guess = (2 * np.random.rand(x_train.shape[0], 1) -1 )/100\n",
    "    results  =  optimize.minimize(to_minimize,\n",
    "                                  starting_guess,\n",
    "                                  jac = jacobian,\n",
    "                                  method='cg',\n",
    "                                  #method = 'Powell',\n",
    "                                  #method = 'Nelder-Mead',\n",
    "                                  # tol = 0.00000005,\n",
    "                                  args=(x_train, y_train),\n",
    "                                  options = {#'maxiter': 1000000,\n",
    "                                             'disp': True}\n",
    "                                 )\n",
    "    return (results.success, results.x)"
   ]
  },
  {
   "cell_type": "code",
   "execution_count": 44,
   "metadata": {
    "scrolled": true
   },
   "outputs": [
    {
     "name": "stderr",
     "output_type": "stream",
     "text": [
      "/home/paolo/.virtualenvs/study_group/lib/python3.5/site-packages/ipykernel_launcher.py:8: RuntimeWarning: divide by zero encountered in log\n",
      "  \n",
      "/home/paolo/.virtualenvs/study_group/lib/python3.5/site-packages/ipykernel_launcher.py:8: RuntimeWarning: divide by zero encountered in log\n",
      "  \n",
      "/home/paolo/.virtualenvs/study_group/lib/python3.5/site-packages/ipykernel_launcher.py:8: RuntimeWarning: divide by zero encountered in log\n",
      "  \n",
      "/home/paolo/.virtualenvs/study_group/lib/python3.5/site-packages/ipykernel_launcher.py:8: RuntimeWarning: divide by zero encountered in log\n",
      "  \n",
      "/home/paolo/.virtualenvs/study_group/lib/python3.5/site-packages/ipykernel_launcher.py:8: RuntimeWarning: divide by zero encountered in log\n",
      "  \n",
      "/home/paolo/.virtualenvs/study_group/lib/python3.5/site-packages/ipykernel_launcher.py:8: RuntimeWarning: divide by zero encountered in log\n",
      "  \n",
      "/home/paolo/.virtualenvs/study_group/lib/python3.5/site-packages/ipykernel_launcher.py:8: RuntimeWarning: divide by zero encountered in log\n",
      "  \n",
      "/home/paolo/.virtualenvs/study_group/lib/python3.5/site-packages/ipykernel_launcher.py:8: RuntimeWarning: divide by zero encountered in log\n",
      "  \n",
      "/home/paolo/.virtualenvs/study_group/lib/python3.5/site-packages/ipykernel_launcher.py:8: RuntimeWarning: divide by zero encountered in log\n",
      "  \n",
      "/home/paolo/.virtualenvs/study_group/lib/python3.5/site-packages/ipykernel_launcher.py:8: RuntimeWarning: divide by zero encountered in log\n",
      "  \n",
      "/home/paolo/.virtualenvs/study_group/lib/python3.5/site-packages/ipykernel_launcher.py:8: RuntimeWarning: divide by zero encountered in log\n",
      "  \n",
      "/home/paolo/.virtualenvs/study_group/lib/python3.5/site-packages/ipykernel_launcher.py:8: RuntimeWarning: divide by zero encountered in log\n",
      "  \n",
      "/home/paolo/.virtualenvs/study_group/lib/python3.5/site-packages/ipykernel_launcher.py:8: RuntimeWarning: divide by zero encountered in log\n",
      "  \n",
      "/home/paolo/.virtualenvs/study_group/lib/python3.5/site-packages/ipykernel_launcher.py:8: RuntimeWarning: divide by zero encountered in log\n",
      "  \n",
      "/home/paolo/.virtualenvs/study_group/lib/python3.5/site-packages/ipykernel_launcher.py:8: RuntimeWarning: divide by zero encountered in log\n",
      "  \n",
      "/home/paolo/.virtualenvs/study_group/lib/python3.5/site-packages/ipykernel_launcher.py:8: RuntimeWarning: divide by zero encountered in log\n",
      "  \n",
      "/home/paolo/.virtualenvs/study_group/lib/python3.5/site-packages/ipykernel_launcher.py:8: RuntimeWarning: divide by zero encountered in log\n",
      "  \n",
      "/home/paolo/.virtualenvs/study_group/lib/python3.5/site-packages/ipykernel_launcher.py:8: RuntimeWarning: divide by zero encountered in log\n",
      "  \n",
      "/home/paolo/.virtualenvs/study_group/lib/python3.5/site-packages/ipykernel_launcher.py:8: RuntimeWarning: divide by zero encountered in log\n",
      "  \n",
      "/home/paolo/.virtualenvs/study_group/lib/python3.5/site-packages/ipykernel_launcher.py:8: RuntimeWarning: divide by zero encountered in log\n",
      "  \n",
      "/home/paolo/.virtualenvs/study_group/lib/python3.5/site-packages/ipykernel_launcher.py:8: RuntimeWarning: divide by zero encountered in log\n",
      "  \n",
      "/home/paolo/.virtualenvs/study_group/lib/python3.5/site-packages/ipykernel_launcher.py:8: RuntimeWarning: divide by zero encountered in log\n",
      "  \n",
      "/home/paolo/.virtualenvs/study_group/lib/python3.5/site-packages/ipykernel_launcher.py:8: RuntimeWarning: divide by zero encountered in log\n",
      "  \n",
      "/home/paolo/.virtualenvs/study_group/lib/python3.5/site-packages/ipykernel_launcher.py:8: RuntimeWarning: divide by zero encountered in log\n",
      "  \n",
      "/home/paolo/.virtualenvs/study_group/lib/python3.5/site-packages/ipykernel_launcher.py:8: RuntimeWarning: divide by zero encountered in log\n",
      "  \n",
      "/home/paolo/.virtualenvs/study_group/lib/python3.5/site-packages/ipykernel_launcher.py:8: RuntimeWarning: divide by zero encountered in log\n",
      "  \n",
      "/home/paolo/.virtualenvs/study_group/lib/python3.5/site-packages/ipykernel_launcher.py:8: RuntimeWarning: divide by zero encountered in log\n",
      "  \n",
      "/home/paolo/.virtualenvs/study_group/lib/python3.5/site-packages/ipykernel_launcher.py:8: RuntimeWarning: divide by zero encountered in log\n",
      "  \n",
      "/home/paolo/.virtualenvs/study_group/lib/python3.5/site-packages/ipykernel_launcher.py:8: RuntimeWarning: divide by zero encountered in log\n",
      "  \n",
      "/home/paolo/.virtualenvs/study_group/lib/python3.5/site-packages/ipykernel_launcher.py:8: RuntimeWarning: divide by zero encountered in log\n",
      "  \n",
      "/home/paolo/.virtualenvs/study_group/lib/python3.5/site-packages/ipykernel_launcher.py:8: RuntimeWarning: divide by zero encountered in log\n",
      "  \n",
      "/home/paolo/.virtualenvs/study_group/lib/python3.5/site-packages/ipykernel_launcher.py:8: RuntimeWarning: divide by zero encountered in log\n",
      "  \n",
      "/home/paolo/.virtualenvs/study_group/lib/python3.5/site-packages/ipykernel_launcher.py:8: RuntimeWarning: divide by zero encountered in log\n",
      "  \n"
     ]
    },
    {
     "name": "stdout",
     "output_type": "stream",
     "text": [
      "Warning: Desired error not necessarily achieved due to precision loss.\n",
      "         Current function value: nan\n",
      "         Iterations: 34\n",
      "         Function evaluations: 552\n",
      "         Gradient evaluations: 552\n"
     ]
    }
   ],
   "source": [
    "results = run_optimization(logistic_regression,logistic_regression_prime, training_0_1['x'], training_0_1['y'])\n"
   ]
  },
  {
   "cell_type": "code",
   "execution_count": 45,
   "metadata": {},
   "outputs": [
    {
     "data": {
      "text/plain": [
       "(False, array([  1.74686614e-03,   6.78953469e-03,  -7.84458932e-05,\n",
       "          1.19980205e-02,  -2.32307523e-04,  -1.33970229e-03,\n",
       "          4.50274442e-03,   1.93458174e-03,   1.18736809e-02,\n",
       "          9.96645644e-03,   1.71729526e-02,   1.60524010e-03,\n",
       "          1.14202584e-02,   1.42366992e-02,   7.86187360e-04,\n",
       "          8.79318950e-04,   2.62801302e-03,   1.58273232e-02,\n",
       "          1.19021845e-02,   1.72713702e-02,   1.18257019e-03,\n",
       "         -1.39727767e-03,   1.28867892e-02,   7.74098515e-03,\n",
       "          1.31797627e-02,   5.76516623e-03,   1.77417847e-02,\n",
       "         -1.24703688e-03,  -7.65191861e-04,  -7.01439509e-04,\n",
       "          7.83635363e-03,   1.01338715e-02,   9.05369940e-03,\n",
       "          1.47086928e-02,   1.05663873e-02,   1.08172545e-02,\n",
       "          4.91279437e-04,   1.14801867e-02,   8.71410246e-03,\n",
       "          4.94142360e-03,   7.20324951e-03,  -7.28662272e-04,\n",
       "         -7.81403218e-04,  -2.59362881e-04,   7.27958093e-03,\n",
       "          6.13276103e-03,  -6.26471930e-04,   1.58844388e-02,\n",
       "          1.34576084e-02,   1.26838977e-02,   2.75856184e-03,\n",
       "          1.42373559e-02,   2.66005058e-04,   8.19641765e-03,\n",
       "          1.76866089e-03,   1.40604549e-02,   1.18906002e-02,\n",
       "         -7.35694089e-04,   1.24841791e-02,   1.74578284e-02,\n",
       "         -1.46758170e-03,   8.69506827e-03,   1.99946450e-04,\n",
       "          9.52036764e-03,   9.72397016e-03,  -1.53451996e-03,\n",
       "          1.18896957e-02,   6.91473890e-03,   2.86528751e-02,\n",
       "          2.47097610e-01,   7.79687445e-02,   2.06191038e-02,\n",
       "          1.09195669e-01,   2.55443797e-01,   7.48010716e-02,\n",
       "          1.64051421e-02,   4.20133784e-03,   7.14767400e-03,\n",
       "          7.93207622e-03,   1.20116454e-02,   7.90789751e-04,\n",
       "          1.78296269e-02,   3.52534016e-03,   9.24617646e-03,\n",
       "          6.58720107e-03,   6.98765585e-03,   7.38618963e-03,\n",
       "          3.60313819e-03,   1.08618384e-02,   4.30258484e-03,\n",
       "          1.19148413e-02,   1.11604136e-02,   3.23826750e-02,\n",
       "          2.21985370e-02,   1.59157472e-02,   7.28436205e-03,\n",
       "          1.34209978e-01,   2.59980660e-01,   1.96573579e-01,\n",
       "          1.74103489e-01,   3.82584260e-01,   4.96144925e-01,\n",
       "          2.38371253e-01,   1.80431585e-02,   5.38602431e-03,\n",
       "          3.30313915e-03,   2.15690465e-03,   1.27907332e-02,\n",
       "          1.69055491e-02,   1.19221241e-02,   1.73211175e-02,\n",
       "          3.72003607e-03,   4.60257828e-03,   1.76527327e-02,\n",
       "          3.19243328e-03,   1.41328089e-02,   3.11580212e-03,\n",
       "          6.13743743e-03,   3.51904918e-03,  -4.77223025e-03,\n",
       "          1.60258870e-01,   2.39747654e-01,   9.59009414e-02,\n",
       "          9.62578261e-02,   2.19225969e-01,   2.03780655e-01,\n",
       "          7.46451713e-02,   1.62852049e-01,   9.87967459e-03,\n",
       "          2.86755418e-01,  -2.39633794e-01,   6.19162541e-02,\n",
       "          2.18325718e-01,   4.57153141e-02,   7.86253723e-02,\n",
       "          3.72240254e-02,   9.83668265e-03,   1.22782720e-02,\n",
       "          9.22505510e-03,   8.42486256e-03,   1.41020546e-02,\n",
       "          1.43517884e-02,   2.36074464e-03,   1.26960709e-02,\n",
       "          1.39524518e-02,   1.66037962e-02,  -1.42159825e-02,\n",
       "         -1.69705295e-02,   2.10890761e-01,   1.92274851e-01,\n",
       "         -3.83180693e-02,   7.44171577e-02,   3.38213273e-01,\n",
       "          5.00143279e-01,  -2.40659453e-01,  -1.19375767e-01,\n",
       "          1.34783144e-01,   2.41730696e-01,  -2.04421542e-01,\n",
       "         -7.42296538e-02,   4.74698843e-01,   4.68529328e-01,\n",
       "          5.58103589e-01,   3.38481598e-01,   5.94127472e-02,\n",
       "          6.18110145e-04,   6.00165357e-03,   9.56773165e-03,\n",
       "          1.30410032e-02,   1.55984664e-02,   3.58246046e-03,\n",
       "          1.61234382e-03,   1.35705720e-02,  -7.19207653e-03,\n",
       "         -6.19334056e-03,   5.45041918e-02,   5.65328557e-02,\n",
       "          2.46714785e-02,  -8.74666767e-02,  -1.74627600e-01,\n",
       "          8.25526829e-02,   1.96190408e-01,   2.97130222e-03,\n",
       "         -2.20046247e-01,  -4.41474214e-01,  -4.64516598e-02,\n",
       "         -1.46440777e-02,  -8.21307801e-02,   4.87065352e-01,\n",
       "          2.68310055e-01,   1.09249103e-01,  -3.45346183e-02,\n",
       "          1.33967693e-02,   7.63847763e-03,   1.13464996e-02,\n",
       "          5.57864760e-04,   1.36028483e-02,   2.03874023e-03,\n",
       "          1.23551952e-02,   1.13874719e-02,   2.25819657e-01,\n",
       "          2.20881004e-01,   4.79593630e-02,   1.70172712e-01,\n",
       "          2.60086600e-02,  -2.23502443e-01,  -3.46281760e-01,\n",
       "         -4.37999814e-01,   6.10946383e-02,   2.76970938e-02,\n",
       "          3.86899785e-02,  -2.86329161e-01,  -2.25338546e-02,\n",
       "         -3.41651644e-01,  -3.61668086e-01,  -2.10068178e-01,\n",
       "          9.82836822e-02,  -1.34514879e-01,  -1.47649224e-01,\n",
       "         -1.77365117e-01,  -2.28556832e-01,   5.06809477e-04,\n",
       "          2.43142226e-03,   1.30087625e-02,  -9.56987784e-04,\n",
       "         -2.88921711e-04,   9.20914623e-03,   1.78232457e-02,\n",
       "          2.09739814e-01,   2.53909409e-01,   4.17511379e-02,\n",
       "          1.31500933e-01,   4.13712393e-02,  -1.71700962e-01,\n",
       "         -2.18895479e-01,  -1.46889392e-01,   4.28893088e-01,\n",
       "         -6.15357195e-02,   4.33063060e-01,   8.56372918e-02,\n",
       "         -4.83486636e-01,  -5.44670993e-01,  -8.19580141e-02,\n",
       "          7.96013954e-02,  -3.15751432e-01,  -3.81764767e-01,\n",
       "         -1.79973204e-01,  -1.69760204e-02,  -8.69907479e-02,\n",
       "          1.15201321e-02,   1.02082982e-02,   3.89840617e-03,\n",
       "          5.74692354e-03,   3.25696599e-03,   1.43014776e-02,\n",
       "          1.23959745e-02,   2.38605499e-01,   2.20996950e-01,\n",
       "         -7.49547615e-02,   7.04004788e-02,   8.50881830e-02,\n",
       "          3.23422090e-03,  -1.24016917e-01,  -2.43940514e-02,\n",
       "          1.66713370e-01,   4.44671678e-01,   3.93333238e-01,\n",
       "          3.61122182e-02,   9.32841705e-03,  -2.01314652e-01,\n",
       "          3.56624984e-01,   4.78016567e-01,  -4.99484856e-01,\n",
       "         -6.59077921e-01,  -2.91367493e-01,  -1.06392414e-01,\n",
       "         -4.68206991e-03,  -9.16422749e-03,   1.47084269e-02,\n",
       "          1.38703392e-02,   1.14270837e-02,   9.02642206e-03,\n",
       "          1.38151167e-02,   2.05181612e-03,   2.32947465e-01,\n",
       "          6.08793888e-02,  -1.67191905e-01,  -1.08800296e-01,\n",
       "         -9.49701254e-02,   9.75011899e-02,  -5.70233717e-02,\n",
       "          4.97505294e-02,   2.33005708e-01,   2.77789468e-01,\n",
       "         -1.96107448e-02,   2.22503069e-01,   3.83214800e-01,\n",
       "         -2.78932553e-01,   3.44962552e-02,   1.74638394e-01,\n",
       "         -4.04465705e-01,  -4.01573273e-01,  -2.52366748e-01,\n",
       "         -1.97392251e-01,  -2.39241714e-02,  -2.36890076e-03,\n",
       "          3.90446317e-03,   1.50011705e-02,   1.50269100e-02,\n",
       "          1.35348510e-02,   1.11740318e-02,   1.12126664e-02,\n",
       "          2.31818818e-01,  -3.98875961e-02,  -2.09441370e-01,\n",
       "         -1.74231610e-01,  -2.35533031e-01,  -1.37613332e-01,\n",
       "         -2.06017759e-01,  -1.11899330e-01,   1.45119968e-02,\n",
       "          1.37352034e-01,  -1.62747900e-01,   5.24733600e-01,\n",
       "          3.66290256e-01,  -1.73310266e-01,  -2.74961926e-01,\n",
       "         -2.14677525e-01,   5.26551511e-02,  -3.32106255e-01,\n",
       "         -3.77739145e-01,  -8.93968652e-02,  -1.10282730e-01,\n",
       "          5.34124682e-03,   1.45493656e-02,   4.68019359e-03,\n",
       "          7.36499890e-03,   4.07192384e-03,   1.66387981e-02,\n",
       "          1.21155970e-02,   1.36367556e-01,  -1.63810873e-01,\n",
       "         -1.80153120e-01,  -1.35484919e-01,  -3.18452003e-01,\n",
       "         -4.16317210e-01,  -3.84799617e-02,  -4.56465068e-02,\n",
       "         -2.89398495e-01,   3.35159914e-01,   2.47157383e-02,\n",
       "          5.59030047e-01,   3.05587786e-01,  -1.63703942e-02,\n",
       "         -3.78775598e-01,  -2.69937954e-01,   1.76624454e-02,\n",
       "         -4.02362241e-01,  -3.04957282e-01,  -2.30978749e-01,\n",
       "         -1.37861253e-01,  -8.57448045e-03,   1.22253242e-03,\n",
       "          3.68414990e-03,   9.06684765e-03,   1.75637096e-03,\n",
       "          1.63927576e-02,   8.50695593e-03,   2.22428233e-02,\n",
       "         -2.02277434e-01,  -1.36865312e-01,  -3.03328977e-01,\n",
       "         -4.39884338e-01,  -1.54872565e-01,  -2.23435575e-02,\n",
       "         -2.41097873e-01,   2.76624372e-03,   6.70763564e-01,\n",
       "          5.47199388e-01,   5.43660702e-01,   2.83134838e-01,\n",
       "          9.78190347e-03,  -9.51352134e-01,  -6.57195533e-02,\n",
       "          9.14169933e-02,  -4.95149230e-01,  -5.64829071e-01,\n",
       "         -3.85169365e-01,  -1.39211213e-01,  -3.24378229e-03,\n",
       "         -5.63272116e-04,   1.60621032e-02,   5.39851095e-03,\n",
       "          2.97136002e-03,   1.13755862e-02,   6.56818706e-03,\n",
       "         -4.91718897e-02,  -1.94771535e-01,  -2.33239166e-01,\n",
       "         -4.35877332e-01,  -2.52673544e-01,   2.76336036e-01,\n",
       "         -3.76728321e-01,  -1.65502755e-01,  -1.66182128e-02,\n",
       "          5.76366801e-01,   9.27161974e-01,   5.53134147e-01,\n",
       "          5.49665876e-01,  -1.62002356e-01,  -1.30963749e+00,\n",
       "          2.84443015e-02,  -1.06127022e-01,  -4.02769162e-01,\n",
       "         -3.96582395e-01,  -3.93766587e-01,  -1.91155910e-01,\n",
       "         -5.18327257e-03,   2.58497551e-03,   9.94888688e-03,\n",
       "          6.15055665e-03,   6.56211738e-03,   6.25413774e-03,\n",
       "          4.63290954e-03,  -1.40707153e-01,  -2.53851029e-01,\n",
       "         -2.88891434e-01,  -2.87342071e-01,  -2.58879666e-01,\n",
       "         -8.47647073e-02,  -4.42245336e-01,  -2.53384024e-01,\n",
       "          3.08283376e-01,   1.00335173e+00,   9.00226355e-01,\n",
       "          1.91250296e-01,   1.21509918e-01,  -8.62847322e-01,\n",
       "         -5.50250638e-01,   1.57791468e-02,  -1.98460106e-01,\n",
       "         -2.79650032e-01,  -2.69378540e-01,  -4.12516282e-01,\n",
       "         -1.76626938e-01,  -1.33969819e-02,   1.47113976e-02,\n",
       "          1.70805178e-02,   1.38969632e-02,   7.10418319e-03,\n",
       "          5.17196981e-03,   7.66627235e-03,  -1.53969757e-01,\n",
       "         -2.03723946e-01,  -1.84661424e-01,  -4.62793220e-01,\n",
       "         -1.83196085e-01,  -6.02787393e-01,  -4.44749208e-01,\n",
       "         -7.48210779e-02,   2.46517559e-01,   7.71323145e-01,\n",
       "          5.24236815e-01,   2.69934924e-01,  -3.93293773e-01,\n",
       "         -8.66398316e-01,  -5.28869111e-02,  -8.26350504e-02,\n",
       "         -5.55196467e-01,  -1.45846056e-01,  -2.03847233e-01,\n",
       "         -2.89762738e-01,   1.50089754e-01,   9.52706139e-02,\n",
       "          1.53373917e-03,   1.01780321e-02,   7.66654495e-03,\n",
       "          6.81997224e-03,   7.24152863e-03,   8.83320419e-03,\n",
       "         -1.60778973e-01,  -2.04867230e-01,  -2.38103508e-01,\n",
       "         -2.45384498e-01,  -1.67184836e-01,  -7.24882532e-01,\n",
       "         -6.02877226e-01,  -1.09079490e-01,   2.59831376e-01,\n",
       "          3.79767509e-01,  -9.65204580e-03,   3.12118828e-01,\n",
       "         -1.69783410e-01,  -4.99060547e-01,  -2.83990898e-01,\n",
       "         -2.56093471e-01,  -3.61593068e-01,  -6.56047910e-02,\n",
       "         -2.02722258e-01,  -2.21759907e-01,   2.65907779e-01,\n",
       "          3.73262075e-01,   1.33182355e-02,   3.63200031e-03,\n",
       "          1.79915542e-03,   1.15499396e-03,   6.56539990e-03,\n",
       "          6.64014357e-03,  -1.38674640e-01,  -3.01066627e-01,\n",
       "         -2.95461370e-01,   1.72215414e-02,  -1.95421923e-01,\n",
       "         -4.91746268e-01,  -1.52115542e-01,  -3.01727058e-01,\n",
       "          1.95502585e-01,   2.84105931e-01,   3.31394765e-02,\n",
       "          2.39308567e-01,   2.46997534e-01,  -3.13302499e-01,\n",
       "          3.84328657e-02,  -3.69727474e-01,  -8.12610290e-02,\n",
       "         -1.34704083e-01,  -2.42370882e-01,  -1.39857087e-01,\n",
       "          3.89742158e-01,   3.85644969e-01,   1.42273269e-02,\n",
       "          1.62527136e-02,   8.47808203e-03,   7.30206283e-03,\n",
       "         -5.85911580e-05,   7.86906769e-04,  -1.22348150e-01,\n",
       "         -3.93499067e-01,  -1.13283594e-01,   1.53440471e-01,\n",
       "         -3.39363917e-01,  -8.16704574e-02,   2.72877543e-01,\n",
       "         -1.47429343e-01,  -6.49495589e-02,   1.71304794e-01,\n",
       "          6.49052962e-02,   2.42394327e-01,   3.06207598e-03,\n",
       "          3.79614666e-02,   1.23573251e-01,  -2.09177949e-01,\n",
       "         -1.91230486e-01,  -1.32042639e-01,  -1.17171825e-01,\n",
       "          1.74770257e-01,   4.22576895e-01,   3.79252749e-01,\n",
       "          1.29830329e-02,   8.14006992e-03,   9.04062013e-03,\n",
       "         -2.62639556e-03,  -1.49603305e-03,  -2.27071275e-05,\n",
       "          5.86798360e-02,  -7.71728931e-02,   2.43460391e-01,\n",
       "         -5.61379842e-02,  -2.35919234e-02,   3.29764934e-01,\n",
       "          1.10431127e-01,  -1.13150524e-01,  -4.44417891e-01,\n",
       "         -2.94327639e-01,   2.28777241e-01,   2.75614498e-01,\n",
       "          1.80130838e-01,   7.16688365e-01,   6.51890023e-01,\n",
       "          1.71743335e-01,   2.57404143e-01,   1.98931442e-02,\n",
       "          1.54350909e-01,   4.17502976e-01,   4.34038100e-01,\n",
       "          2.51952056e-01,   1.13828159e-02,   1.28266543e-02,\n",
       "          1.55064782e-03,   1.30808449e-02,  -1.05895861e-03,\n",
       "          3.15362217e-03,   3.65365412e-02,   2.08364419e-02,\n",
       "          1.60965304e-01,   2.88391789e-01,   1.62224582e-01,\n",
       "          2.89858208e-01,  -3.13802739e-01,  -4.20978574e-01,\n",
       "         -5.19384175e-01,  -1.50673364e-01,   1.41188464e-01,\n",
       "         -7.04020714e-02,   2.88341848e-01,   5.33154889e-01,\n",
       "          4.72338835e-01,   2.48268714e-01,   5.71396780e-01,\n",
       "          4.19680909e-01,   2.23344430e-01,   2.31834077e-01,\n",
       "          3.36448878e-01,   6.80758622e-02,   1.63269139e-02,\n",
       "          1.21777938e-02,   1.20673797e-02,   2.06695724e-03,\n",
       "          1.47217967e-02,   1.28789305e-02,   1.44794457e-01,\n",
       "          2.40104195e-01,  -1.20073671e-02,   7.34970399e-02,\n",
       "          1.07375016e-01,   3.48037535e-01,  -1.46366473e-01,\n",
       "         -4.05360016e-01,  -6.08464517e-01,   1.83894754e-01,\n",
       "         -2.60825965e-01,  -3.41448757e-01,  -1.60627116e-02,\n",
       "          1.32604304e-01,   1.59183274e-01,   1.72454599e-02,\n",
       "          4.74645387e-01,   3.39232678e-01,   2.38419353e-02,\n",
       "          1.17086335e-02,   4.92311319e-02,   7.46302176e-03,\n",
       "          1.20985426e-02,   1.18466943e-04,   4.51796082e-03,\n",
       "          6.37171311e-03,   1.22989391e-02,   3.99778583e-03,\n",
       "          6.38107499e-02,  -7.50219900e-02,  -2.85554642e-01,\n",
       "         -1.99114685e-01,  -3.50667501e-02,   5.25664711e-01,\n",
       "         -8.95648477e-02,  -4.34255848e-01,  -7.51095389e-02,\n",
       "          1.24035451e-01,  -3.63881455e-01,  -3.80028035e-02,\n",
       "          1.22067019e-01,   1.18636219e-01,   1.10550141e-01,\n",
       "          6.87153776e-02,   3.50504596e-01,   7.92553891e-02,\n",
       "          5.30316659e-02,   1.35081299e-02,  -1.68571407e-03,\n",
       "          1.57460034e-02,  -6.11203803e-04,   7.97341423e-04,\n",
       "          1.46651434e-03,   1.07072929e-02,   1.78554251e-03,\n",
       "          7.93126287e-03,  -1.60194644e-02,  -1.80749999e-01,\n",
       "         -1.54396286e-01,   4.87106836e-02,  -2.75687986e-02,\n",
       "          1.81980502e-01,   3.24071582e-01,   2.64957896e-02,\n",
       "         -1.66925996e-01,   1.09929291e-01,  -2.20700851e-01,\n",
       "          1.03675576e-01,   1.88215387e-01,   2.50393834e-01,\n",
       "          6.62912901e-03,   1.14179685e-01,   2.82455820e-02,\n",
       "          1.12301822e-01,   6.92099563e-02,   4.10143538e-04,\n",
       "          2.46511317e-03,   1.80816592e-02,   1.79332314e-02,\n",
       "          6.75793821e-03,   1.30708685e-02,   9.14613357e-03,\n",
       "          9.35953354e-03,   1.73364022e-02,   9.52370409e-03,\n",
       "          1.10454779e-02,  -1.03498663e-03,   2.08139649e-02,\n",
       "          2.21453343e-02,   2.88520747e-03,   5.99117547e-03,\n",
       "          8.57959449e-03,   4.15416148e-01,   4.64939275e-01,\n",
       "          1.01913142e-01,   1.14680083e-01,   2.76223064e-02,\n",
       "          3.10458930e-03,   1.02584488e-02,   4.38399928e-03,\n",
       "          5.61053167e-03,   3.31780575e-03,   5.02139522e-03,\n",
       "          1.41162181e-02,   6.52841728e-03,   1.27359453e-02,\n",
       "          1.41250653e-02,   1.37038006e-02,   1.40743357e-02,\n",
       "          2.85135321e-03,   4.73106960e-03,   9.62246985e-03,\n",
       "          1.76231568e-02,   6.35534043e-03,   9.50323140e-03,\n",
       "          3.44719733e-03,   1.48461502e-02,   4.64433263e-03,\n",
       "          1.18656234e-02,   1.72066712e-02,   1.17823734e-02,\n",
       "          1.35985537e-02,   1.91856158e-02,   6.01291179e-02,\n",
       "          3.38959909e-02,   4.83301203e-03,   1.41264993e-03,\n",
       "         -1.62045558e-03,   7.03472014e-03,   6.17550524e-04,\n",
       "          9.40782891e-03,   1.14827280e-02,   3.73173176e-03,\n",
       "          1.62977893e-03,   1.68289948e-02,   1.76376845e-02,\n",
       "          1.39712385e-02,   1.57323605e-02,   1.28743057e-02,\n",
       "          1.16070137e-02,   2.93515407e-03,  -1.69868711e-04,\n",
       "          1.06846112e-02,   9.35605147e-03,   2.43044567e-03,\n",
       "          7.20034531e-03,   7.67006781e-03,   9.83253906e-03,\n",
       "          5.74402785e-03,  -1.13241745e-03,   6.19128115e-03,\n",
       "          1.08560928e-02,   8.82374959e-03,   2.25851065e-03,\n",
       "          1.49248602e-02,   4.62982357e-03,   1.05364630e-02,\n",
       "          9.24441290e-03,   7.03175696e-03,  -4.73608625e-04,\n",
       "          6.09221675e-03,   4.69102011e-04,  -7.09592751e-04,\n",
       "          3.93883601e-04,   8.32548985e-01]))"
      ]
     },
     "execution_count": 45,
     "metadata": {},
     "output_type": "execute_result"
    }
   ],
   "source": [
    "results"
   ]
  },
  {
   "cell_type": "code",
   "execution_count": 32,
   "metadata": {
    "collapsed": true
   },
   "outputs": [],
   "source": [
    "true_theta = results[1]"
   ]
  },
  {
   "cell_type": "code",
   "execution_count": 33,
   "metadata": {
    "collapsed": true
   },
   "outputs": [],
   "source": [
    "def func_eval(theta, x):\n",
    "    return sigmoid_array(np.squeeze(np.dot(theta.transpose(), x)))"
   ]
  },
  {
   "cell_type": "code",
   "execution_count": 34,
   "metadata": {
    "collapsed": true
   },
   "outputs": [],
   "source": [
    "y_train_eval = func_eval(true_theta, training_0_1['x'])\n",
    "y_test_eval = func_eval(true_theta, testing_0_1['x'])"
   ]
  },
  {
   "cell_type": "code",
   "execution_count": 35,
   "metadata": {},
   "outputs": [
    {
     "data": {
      "text/plain": [
       "array([False,  True,  True,  True,  True], dtype=bool)"
      ]
     },
     "execution_count": 35,
     "metadata": {},
     "output_type": "execute_result"
    }
   ],
   "source": [
    "y_train_eval[:5]>0.5"
   ]
  },
  {
   "cell_type": "code",
   "execution_count": 36,
   "metadata": {},
   "outputs": [
    {
     "data": {
      "text/plain": [
       "array([0, 1, 1, 1, 1], dtype=uint8)"
      ]
     },
     "execution_count": 36,
     "metadata": {},
     "output_type": "execute_result"
    }
   ],
   "source": [
    "training_0_1['y'][:5]"
   ]
  },
  {
   "cell_type": "code",
   "execution_count": 37,
   "metadata": {
    "collapsed": true
   },
   "outputs": [],
   "source": [
    "import pandas as pd\n",
    "training_comparison = pd.DataFrame({'true':training_0_1['y'], 'estimated':(y_train_eval>0.5) })"
   ]
  },
  {
   "cell_type": "code",
   "execution_count": 38,
   "metadata": {},
   "outputs": [
    {
     "data": {
      "text/plain": [
       "(12665, 2)"
      ]
     },
     "execution_count": 38,
     "metadata": {},
     "output_type": "execute_result"
    }
   ],
   "source": [
    "training_comparison[training_comparison['true'] == training_comparison['estimated']].shape"
   ]
  },
  {
   "cell_type": "code",
   "execution_count": 39,
   "metadata": {},
   "outputs": [
    {
     "data": {
      "text/plain": [
       "(0, 2)"
      ]
     },
     "execution_count": 39,
     "metadata": {},
     "output_type": "execute_result"
    }
   ],
   "source": [
    "training_comparison[training_comparison['true'] != training_comparison['estimated']].shape"
   ]
  },
  {
   "cell_type": "code",
   "execution_count": 40,
   "metadata": {},
   "outputs": [],
   "source": [
    "testing_comparison = pd.DataFrame({'true':testing_0_1['y'], 'estimated':(y_test_eval>0.5) })"
   ]
  },
  {
   "cell_type": "code",
   "execution_count": 41,
   "metadata": {},
   "outputs": [
    {
     "data": {
      "text/plain": [
       "(2, 2)"
      ]
     },
     "execution_count": 41,
     "metadata": {},
     "output_type": "execute_result"
    }
   ],
   "source": [
    "testing_comparison[testing_comparison['true'] != testing_comparison['estimated']].shape"
   ]
  },
  {
   "cell_type": "code",
   "execution_count": 42,
   "metadata": {},
   "outputs": [
    {
     "data": {
      "text/plain": [
       "(2113, 2)"
      ]
     },
     "execution_count": 42,
     "metadata": {},
     "output_type": "execute_result"
    }
   ],
   "source": [
    "testing_comparison[testing_comparison['true'] == testing_comparison['estimated']].shape"
   ]
  },
  {
   "cell_type": "code",
   "execution_count": 43,
   "metadata": {},
   "outputs": [
    {
     "data": {
      "text/plain": [
       "0.9990543735224586"
      ]
     },
     "execution_count": 43,
     "metadata": {},
     "output_type": "execute_result"
    }
   ],
   "source": [
    "1 - 2/(6+2109)"
   ]
  },
  {
   "cell_type": "code",
   "execution_count": null,
   "metadata": {
    "collapsed": true
   },
   "outputs": [],
   "source": []
  }
 ],
 "metadata": {
  "kernelspec": {
   "display_name": "Python 3",
   "language": "python",
   "name": "python3"
  },
  "language_info": {
   "codemirror_mode": {
    "name": "ipython",
    "version": 3
   },
   "file_extension": ".py",
   "mimetype": "text/x-python",
   "name": "python",
   "nbconvert_exporter": "python",
   "pygments_lexer": "ipython3",
   "version": "3.5.2"
  }
 },
 "nbformat": 4,
 "nbformat_minor": 2
}
