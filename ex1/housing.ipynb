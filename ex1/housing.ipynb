{
 "cells": [
  {
   "cell_type": "code",
   "execution_count": 1,
   "metadata": {
    "collapsed": true
   },
   "outputs": [],
   "source": [
    "import numpy as np\n",
    "import pandas as pd\n",
    "import matplotlib.pyplot as plt\n",
    "\n",
    "%matplotlib inline"
   ]
  },
  {
   "cell_type": "code",
   "execution_count": 2,
   "metadata": {},
   "outputs": [
    {
     "data": {
      "text/html": [
       "<div>\n",
       "<style>\n",
       "    .dataframe thead tr:only-child th {\n",
       "        text-align: right;\n",
       "    }\n",
       "\n",
       "    .dataframe thead th {\n",
       "        text-align: left;\n",
       "    }\n",
       "\n",
       "    .dataframe tbody tr th {\n",
       "        vertical-align: top;\n",
       "    }\n",
       "</style>\n",
       "<table border=\"1\" class=\"dataframe\">\n",
       "  <thead>\n",
       "    <tr style=\"text-align: right;\">\n",
       "      <th></th>\n",
       "      <th>0</th>\n",
       "      <th>1</th>\n",
       "      <th>2</th>\n",
       "      <th>3</th>\n",
       "      <th>4</th>\n",
       "      <th>5</th>\n",
       "      <th>6</th>\n",
       "      <th>7</th>\n",
       "      <th>8</th>\n",
       "      <th>9</th>\n",
       "      <th>...</th>\n",
       "      <th>496</th>\n",
       "      <th>497</th>\n",
       "      <th>498</th>\n",
       "      <th>499</th>\n",
       "      <th>500</th>\n",
       "      <th>501</th>\n",
       "      <th>502</th>\n",
       "      <th>503</th>\n",
       "      <th>504</th>\n",
       "      <th>505</th>\n",
       "    </tr>\n",
       "  </thead>\n",
       "  <tbody>\n",
       "    <tr>\n",
       "      <th>-1</th>\n",
       "      <td>1.00000</td>\n",
       "      <td>1.00000</td>\n",
       "      <td>1.00000</td>\n",
       "      <td>1.00000</td>\n",
       "      <td>1.00000</td>\n",
       "      <td>1.00000</td>\n",
       "      <td>1.00000</td>\n",
       "      <td>1.00000</td>\n",
       "      <td>1.00000</td>\n",
       "      <td>1.00000</td>\n",
       "      <td>...</td>\n",
       "      <td>1.0000</td>\n",
       "      <td>1.00000</td>\n",
       "      <td>1.00000</td>\n",
       "      <td>1.00000</td>\n",
       "      <td>1.00000</td>\n",
       "      <td>1.00000</td>\n",
       "      <td>1.00000</td>\n",
       "      <td>1.00000</td>\n",
       "      <td>1.00000</td>\n",
       "      <td>1.00000</td>\n",
       "    </tr>\n",
       "    <tr>\n",
       "      <th>0</th>\n",
       "      <td>0.00632</td>\n",
       "      <td>0.02731</td>\n",
       "      <td>0.02729</td>\n",
       "      <td>0.03237</td>\n",
       "      <td>0.06905</td>\n",
       "      <td>0.02985</td>\n",
       "      <td>0.08829</td>\n",
       "      <td>0.14455</td>\n",
       "      <td>0.21124</td>\n",
       "      <td>0.17004</td>\n",
       "      <td>...</td>\n",
       "      <td>0.2896</td>\n",
       "      <td>0.26838</td>\n",
       "      <td>0.23912</td>\n",
       "      <td>0.17783</td>\n",
       "      <td>0.22438</td>\n",
       "      <td>0.06263</td>\n",
       "      <td>0.04527</td>\n",
       "      <td>0.06076</td>\n",
       "      <td>0.10959</td>\n",
       "      <td>0.04741</td>\n",
       "    </tr>\n",
       "    <tr>\n",
       "      <th>1</th>\n",
       "      <td>18.00000</td>\n",
       "      <td>0.00000</td>\n",
       "      <td>0.00000</td>\n",
       "      <td>0.00000</td>\n",
       "      <td>0.00000</td>\n",
       "      <td>0.00000</td>\n",
       "      <td>12.50000</td>\n",
       "      <td>12.50000</td>\n",
       "      <td>12.50000</td>\n",
       "      <td>12.50000</td>\n",
       "      <td>...</td>\n",
       "      <td>0.0000</td>\n",
       "      <td>0.00000</td>\n",
       "      <td>0.00000</td>\n",
       "      <td>0.00000</td>\n",
       "      <td>0.00000</td>\n",
       "      <td>0.00000</td>\n",
       "      <td>0.00000</td>\n",
       "      <td>0.00000</td>\n",
       "      <td>0.00000</td>\n",
       "      <td>0.00000</td>\n",
       "    </tr>\n",
       "    <tr>\n",
       "      <th>2</th>\n",
       "      <td>2.31000</td>\n",
       "      <td>7.07000</td>\n",
       "      <td>7.07000</td>\n",
       "      <td>2.18000</td>\n",
       "      <td>2.18000</td>\n",
       "      <td>2.18000</td>\n",
       "      <td>7.87000</td>\n",
       "      <td>7.87000</td>\n",
       "      <td>7.87000</td>\n",
       "      <td>7.87000</td>\n",
       "      <td>...</td>\n",
       "      <td>9.6900</td>\n",
       "      <td>9.69000</td>\n",
       "      <td>9.69000</td>\n",
       "      <td>9.69000</td>\n",
       "      <td>9.69000</td>\n",
       "      <td>11.93000</td>\n",
       "      <td>11.93000</td>\n",
       "      <td>11.93000</td>\n",
       "      <td>11.93000</td>\n",
       "      <td>11.93000</td>\n",
       "    </tr>\n",
       "    <tr>\n",
       "      <th>3</th>\n",
       "      <td>0.00000</td>\n",
       "      <td>0.00000</td>\n",
       "      <td>0.00000</td>\n",
       "      <td>0.00000</td>\n",
       "      <td>0.00000</td>\n",
       "      <td>0.00000</td>\n",
       "      <td>0.00000</td>\n",
       "      <td>0.00000</td>\n",
       "      <td>0.00000</td>\n",
       "      <td>0.00000</td>\n",
       "      <td>...</td>\n",
       "      <td>0.0000</td>\n",
       "      <td>0.00000</td>\n",
       "      <td>0.00000</td>\n",
       "      <td>0.00000</td>\n",
       "      <td>0.00000</td>\n",
       "      <td>0.00000</td>\n",
       "      <td>0.00000</td>\n",
       "      <td>0.00000</td>\n",
       "      <td>0.00000</td>\n",
       "      <td>0.00000</td>\n",
       "    </tr>\n",
       "  </tbody>\n",
       "</table>\n",
       "<p>5 rows × 506 columns</p>\n",
       "</div>"
      ],
      "text/plain": [
       "         0        1        2        3        4        5         6         7    \\\n",
       "-1   1.00000  1.00000  1.00000  1.00000  1.00000  1.00000   1.00000   1.00000   \n",
       " 0   0.00632  0.02731  0.02729  0.03237  0.06905  0.02985   0.08829   0.14455   \n",
       " 1  18.00000  0.00000  0.00000  0.00000  0.00000  0.00000  12.50000  12.50000   \n",
       " 2   2.31000  7.07000  7.07000  2.18000  2.18000  2.18000   7.87000   7.87000   \n",
       " 3   0.00000  0.00000  0.00000  0.00000  0.00000  0.00000   0.00000   0.00000   \n",
       "\n",
       "         8         9      ...        496      497      498      499      500  \\\n",
       "-1   1.00000   1.00000    ...     1.0000  1.00000  1.00000  1.00000  1.00000   \n",
       " 0   0.21124   0.17004    ...     0.2896  0.26838  0.23912  0.17783  0.22438   \n",
       " 1  12.50000  12.50000    ...     0.0000  0.00000  0.00000  0.00000  0.00000   \n",
       " 2   7.87000   7.87000    ...     9.6900  9.69000  9.69000  9.69000  9.69000   \n",
       " 3   0.00000   0.00000    ...     0.0000  0.00000  0.00000  0.00000  0.00000   \n",
       "\n",
       "         501       502       503       504       505  \n",
       "-1   1.00000   1.00000   1.00000   1.00000   1.00000  \n",
       " 0   0.06263   0.04527   0.06076   0.10959   0.04741  \n",
       " 1   0.00000   0.00000   0.00000   0.00000   0.00000  \n",
       " 2  11.93000  11.93000  11.93000  11.93000  11.93000  \n",
       " 3   0.00000   0.00000   0.00000   0.00000   0.00000  \n",
       "\n",
       "[5 rows x 506 columns]"
      ]
     },
     "execution_count": 2,
     "metadata": {},
     "output_type": "execute_result"
    }
   ],
   "source": [
    "data = pd.read_csv('housing.csv', header=None)\n",
    "cols = list(data.columns)\n",
    "# add column with ones, as the first column\n",
    "data[-1] = 1.0\n",
    "data = data[[-1] + cols]\n",
    "# put examples in columns\n",
    "data = data.transpose()\n",
    "data.head()"
   ]
  },
  {
   "cell_type": "code",
   "execution_count": 3,
   "metadata": {},
   "outputs": [
    {
     "name": "stdout",
     "output_type": "stream",
     "text": [
      "We have 15 features, and 506 samples\n"
     ]
    }
   ],
   "source": [
    "print('We have {} features, and {} samples'.format(*data.shape))"
   ]
  },
  {
   "cell_type": "code",
   "execution_count": 4,
   "metadata": {
    "collapsed": true
   },
   "outputs": [],
   "source": [
    "shuffled_index = np.random.permutation(data.columns)\n",
    "train_index = shuffled_index[:400]\n",
    "test_index = shuffled_index[400:]"
   ]
  },
  {
   "cell_type": "code",
   "execution_count": 5,
   "metadata": {
    "collapsed": true
   },
   "outputs": [],
   "source": [
    "x_train = data[train_index].values[:-1, :]\n",
    "y_train = data[train_index].values[-1, :]\n",
    "\n",
    "x_test = data[test_index].values[:-1, :]\n",
    "y_test = data[test_index].values[-1, :]"
   ]
  },
  {
   "cell_type": "code",
   "execution_count": 6,
   "metadata": {},
   "outputs": [
    {
     "name": "stdout",
     "output_type": "stream",
     "text": [
      "(14, 400) (400,) (14, 106) (106,)\n"
     ]
    }
   ],
   "source": [
    "print(x_train.shape, y_train.shape, x_test.shape, y_test.shape)"
   ]
  },
  {
   "cell_type": "code",
   "execution_count": 7,
   "metadata": {
    "collapsed": true
   },
   "outputs": [],
   "source": [
    "def linear_regression(theta, data, target):\n",
    "    '''linear_regression.m file receives the training data X,\n",
    "    the training target values (house prices) y, and the current parameters θ.'''\n",
    "    h_prime = np.squeeze(np.dot(theta.transpose(), data))\n",
    "    return ((h_prime - target)**2).sum() / 2"
   ]
  },
  {
   "cell_type": "code",
   "execution_count": 8,
   "metadata": {},
   "outputs": [
    {
     "data": {
      "text/plain": [
       "164365141.38970312"
      ]
     },
     "execution_count": 8,
     "metadata": {},
     "output_type": "execute_result"
    }
   ],
   "source": [
    "theta = np.ones((14, 1))\n",
    "linear_regression(theta, x_train, y_train)"
   ]
  },
  {
   "cell_type": "code",
   "execution_count": 9,
   "metadata": {},
   "outputs": [
    {
     "data": {
      "text/plain": [
       "(400,)"
      ]
     },
     "execution_count": 9,
     "metadata": {},
     "output_type": "execute_result"
    }
   ],
   "source": [
    "np.squeeze(np.dot(theta.transpose(), x_train)).shape"
   ]
  },
  {
   "cell_type": "code",
   "execution_count": 10,
   "metadata": {
    "collapsed": true
   },
   "outputs": [],
   "source": [
    "from scipy import optimize"
   ]
  },
  {
   "cell_type": "code",
   "execution_count": 11,
   "metadata": {},
   "outputs": [
    {
     "name": "stderr",
     "output_type": "stream",
     "text": [
      "/home/paolo/.virtualenvs/test_stan/lib/python3.4/site-packages/ipykernel_launcher.py:7: OptimizeWarning: Unknown solver options: verbose\n",
      "  import sys\n"
     ]
    }
   ],
   "source": [
    "starting_guess = (2 * np.random.rand(14, 1) -1 )/100\n",
    "results  =  optimize.minimize(linear_regression,\n",
    "                              starting_guess,\n",
    "                              method = 'Nelder-Mead',\n",
    "                              args=(x_train, y_train),\n",
    "                             options = {'maxiter': 10000,\n",
    "                                       'verbose': True})"
   ]
  },
  {
   "cell_type": "code",
   "execution_count": 12,
   "metadata": {},
   "outputs": [
    {
     "data": {
      "text/plain": [
       "True"
      ]
     },
     "execution_count": 12,
     "metadata": {},
     "output_type": "execute_result"
    }
   ],
   "source": [
    "results.success"
   ]
  },
  {
   "cell_type": "code",
   "execution_count": 13,
   "metadata": {},
   "outputs": [],
   "source": [
    "true_theta = results.x"
   ]
  },
  {
   "cell_type": "code",
   "execution_count": 14,
   "metadata": {},
   "outputs": [],
   "source": [
    "def func_eval(theta, x):\n",
    "    return np.squeeze(np.dot(theta.transpose(), x))"
   ]
  },
  {
   "cell_type": "code",
   "execution_count": 15,
   "metadata": {},
   "outputs": [],
   "source": [
    "y_test_eval = func_eval(true_theta, x_test)"
   ]
  },
  {
   "cell_type": "code",
   "execution_count": 16,
   "metadata": {},
   "outputs": [
    {
     "data": {
      "text/plain": [
       "[<matplotlib.lines.Line2D at 0x7f26beda1a90>]"
      ]
     },
     "execution_count": 16,
     "metadata": {},
     "output_type": "execute_result"
    },
    {
     "data": {
      "image/png": "[encoded data removed]",
      "text/plain": [
       "<matplotlib.figure.Figure at 0x7f26beda1ac8>"
      ]
     },
     "metadata": {},
     "output_type": "display_data"
    }
   ],
   "source": [
    "plt.plot(y_test_eval[y_test.argsort()])\n",
    "plt.plot(np.sort(y_test))\n"
   ]
  },
  {
   "cell_type": "code",
   "execution_count": 21,
   "metadata": {
    "collapsed": true
   },
   "outputs": [],
   "source": [
    "def rms(a,b):\n",
    "    return np.sqrt(np.sum((a-b)**2)/len(a))"
   ]
  },
  {
   "cell_type": "code",
   "execution_count": 22,
   "metadata": {},
   "outputs": [
    {
     "data": {
      "text/plain": [
       "7.4071092331524593"
      ]
     },
     "execution_count": 22,
     "metadata": {},
     "output_type": "execute_result"
    }
   ],
   "source": [
    "rms(y_test, y_test_eval)"
   ]
  },
  {
   "cell_type": "code",
   "execution_count": null,
   "metadata": {
    "collapsed": true
   },
   "outputs": [],
   "source": []
  }
 ],
 "metadata": {
  "kernelspec": {
   "display_name": "Python 3",
   "language": "python",
   "name": "python3"
  },
  "language_info": {
   "codemirror_mode": {
    "name": "ipython",
    "version": 3
   },
   "file_extension": ".py",
   "mimetype": "text/x-python",
   "name": "python",
   "nbconvert_exporter": "python",
   "pygments_lexer": "ipython3",
   "version": "3.4.3"
  }
 },
 "nbformat": 4,
 "nbformat_minor": 2
}
